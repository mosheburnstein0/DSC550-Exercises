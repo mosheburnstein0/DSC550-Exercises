{
 "cells": [
  {
   "cell_type": "markdown",
   "id": "e8d5efa5",
   "metadata": {},
   "source": [
    "#  4.2 Exercise: Predicting Fuel Efficiency"
   ]
  },
  {
   "cell_type": "code",
   "execution_count": 1,
   "id": "c08cd431",
   "metadata": {},
   "outputs": [
    {
     "data": {
      "text/html": [
       "<div>\n",
       "<style scoped>\n",
       "    .dataframe tbody tr th:only-of-type {\n",
       "        vertical-align: middle;\n",
       "    }\n",
       "\n",
       "    .dataframe tbody tr th {\n",
       "        vertical-align: top;\n",
       "    }\n",
       "\n",
       "    .dataframe thead th {\n",
       "        text-align: right;\n",
       "    }\n",
       "</style>\n",
       "<table border=\"1\" class=\"dataframe\">\n",
       "  <thead>\n",
       "    <tr style=\"text-align: right;\">\n",
       "      <th></th>\n",
       "      <th>mpg</th>\n",
       "      <th>cylinders</th>\n",
       "      <th>displacement</th>\n",
       "      <th>horsepower</th>\n",
       "      <th>weight</th>\n",
       "      <th>acceleration</th>\n",
       "      <th>model year</th>\n",
       "      <th>origin</th>\n",
       "      <th>car name</th>\n",
       "    </tr>\n",
       "  </thead>\n",
       "  <tbody>\n",
       "    <tr>\n",
       "      <th>0</th>\n",
       "      <td>18.0</td>\n",
       "      <td>8</td>\n",
       "      <td>307.0</td>\n",
       "      <td>130</td>\n",
       "      <td>3504</td>\n",
       "      <td>12.0</td>\n",
       "      <td>70</td>\n",
       "      <td>1</td>\n",
       "      <td>chevrolet chevelle malibu</td>\n",
       "    </tr>\n",
       "    <tr>\n",
       "      <th>1</th>\n",
       "      <td>15.0</td>\n",
       "      <td>8</td>\n",
       "      <td>350.0</td>\n",
       "      <td>165</td>\n",
       "      <td>3693</td>\n",
       "      <td>11.5</td>\n",
       "      <td>70</td>\n",
       "      <td>1</td>\n",
       "      <td>buick skylark 320</td>\n",
       "    </tr>\n",
       "    <tr>\n",
       "      <th>2</th>\n",
       "      <td>18.0</td>\n",
       "      <td>8</td>\n",
       "      <td>318.0</td>\n",
       "      <td>150</td>\n",
       "      <td>3436</td>\n",
       "      <td>11.0</td>\n",
       "      <td>70</td>\n",
       "      <td>1</td>\n",
       "      <td>plymouth satellite</td>\n",
       "    </tr>\n",
       "    <tr>\n",
       "      <th>3</th>\n",
       "      <td>16.0</td>\n",
       "      <td>8</td>\n",
       "      <td>304.0</td>\n",
       "      <td>150</td>\n",
       "      <td>3433</td>\n",
       "      <td>12.0</td>\n",
       "      <td>70</td>\n",
       "      <td>1</td>\n",
       "      <td>amc rebel sst</td>\n",
       "    </tr>\n",
       "    <tr>\n",
       "      <th>4</th>\n",
       "      <td>17.0</td>\n",
       "      <td>8</td>\n",
       "      <td>302.0</td>\n",
       "      <td>140</td>\n",
       "      <td>3449</td>\n",
       "      <td>10.5</td>\n",
       "      <td>70</td>\n",
       "      <td>1</td>\n",
       "      <td>ford torino</td>\n",
       "    </tr>\n",
       "  </tbody>\n",
       "</table>\n",
       "</div>"
      ],
      "text/plain": [
       "    mpg  cylinders  displacement horsepower  weight  acceleration  model year  \\\n",
       "0  18.0          8         307.0        130    3504          12.0          70   \n",
       "1  15.0          8         350.0        165    3693          11.5          70   \n",
       "2  18.0          8         318.0        150    3436          11.0          70   \n",
       "3  16.0          8         304.0        150    3433          12.0          70   \n",
       "4  17.0          8         302.0        140    3449          10.5          70   \n",
       "\n",
       "   origin                   car name  \n",
       "0       1  chevrolet chevelle malibu  \n",
       "1       1          buick skylark 320  \n",
       "2       1         plymouth satellite  \n",
       "3       1              amc rebel sst  \n",
       "4       1                ford torino  "
      ]
     },
     "execution_count": 1,
     "metadata": {},
     "output_type": "execute_result"
    }
   ],
   "source": [
    "# Load auto data\n",
    "import pandas as pd\n",
    "auto_mpg_df = pd.read_csv('auto-mpg.csv')\n",
    "auto_mpg_df.head()"
   ]
  },
  {
   "cell_type": "code",
   "execution_count": 2,
   "id": "3312a709",
   "metadata": {},
   "outputs": [
    {
     "data": {
      "text/plain": [
       "['mpg',\n",
       " 'cylinders',\n",
       " 'displacement',\n",
       " 'horsepower',\n",
       " 'weight',\n",
       " 'acceleration',\n",
       " 'model year',\n",
       " 'origin',\n",
       " 'car name']"
      ]
     },
     "execution_count": 2,
     "metadata": {},
     "output_type": "execute_result"
    }
   ],
   "source": [
    "list(auto_mpg_df.columns)"
   ]
  },
  {
   "cell_type": "code",
   "execution_count": 3,
   "id": "4f9148ab",
   "metadata": {},
   "outputs": [
    {
     "data": {
      "text/plain": [
       "(398, 9)"
      ]
     },
     "execution_count": 3,
     "metadata": {},
     "output_type": "execute_result"
    }
   ],
   "source": [
    "auto_mpg_df.shape"
   ]
  },
  {
   "cell_type": "code",
   "execution_count": 4,
   "id": "1befe34d",
   "metadata": {},
   "outputs": [],
   "source": [
    "# Remove the car name column\n",
    "auto_df = auto_mpg_df.drop(['car name'], axis=1)"
   ]
  },
  {
   "cell_type": "code",
   "execution_count": 5,
   "id": "b59a8234",
   "metadata": {},
   "outputs": [
    {
     "data": {
      "text/plain": [
       "(398, 8)"
      ]
     },
     "execution_count": 5,
     "metadata": {},
     "output_type": "execute_result"
    }
   ],
   "source": [
    "auto_df.shape"
   ]
  },
  {
   "cell_type": "code",
   "execution_count": 6,
   "id": "a67d6345",
   "metadata": {},
   "outputs": [
    {
     "data": {
      "text/plain": [
       "mpg             float64\n",
       "cylinders         int64\n",
       "displacement    float64\n",
       "horsepower       object\n",
       "weight            int64\n",
       "acceleration    float64\n",
       "model year        int64\n",
       "origin            int64\n",
       "dtype: object"
      ]
     },
     "execution_count": 6,
     "metadata": {},
     "output_type": "execute_result"
    }
   ],
   "source": [
    "auto_df.dtypes"
   ]
  },
  {
   "cell_type": "code",
   "execution_count": 7,
   "id": "bf98c515",
   "metadata": {},
   "outputs": [
    {
     "data": {
      "text/html": [
       "<div>\n",
       "<style scoped>\n",
       "    .dataframe tbody tr th:only-of-type {\n",
       "        vertical-align: middle;\n",
       "    }\n",
       "\n",
       "    .dataframe tbody tr th {\n",
       "        vertical-align: top;\n",
       "    }\n",
       "\n",
       "    .dataframe thead th {\n",
       "        text-align: right;\n",
       "    }\n",
       "</style>\n",
       "<table border=\"1\" class=\"dataframe\">\n",
       "  <thead>\n",
       "    <tr style=\"text-align: right;\">\n",
       "      <th></th>\n",
       "      <th>mpg</th>\n",
       "      <th>cylinders</th>\n",
       "      <th>displacement</th>\n",
       "      <th>horsepower</th>\n",
       "      <th>weight</th>\n",
       "      <th>acceleration</th>\n",
       "      <th>model year</th>\n",
       "      <th>origin</th>\n",
       "    </tr>\n",
       "  </thead>\n",
       "  <tbody>\n",
       "    <tr>\n",
       "      <th>0</th>\n",
       "      <td>False</td>\n",
       "      <td>False</td>\n",
       "      <td>False</td>\n",
       "      <td>False</td>\n",
       "      <td>False</td>\n",
       "      <td>False</td>\n",
       "      <td>False</td>\n",
       "      <td>False</td>\n",
       "    </tr>\n",
       "    <tr>\n",
       "      <th>1</th>\n",
       "      <td>False</td>\n",
       "      <td>False</td>\n",
       "      <td>False</td>\n",
       "      <td>False</td>\n",
       "      <td>False</td>\n",
       "      <td>False</td>\n",
       "      <td>False</td>\n",
       "      <td>False</td>\n",
       "    </tr>\n",
       "    <tr>\n",
       "      <th>2</th>\n",
       "      <td>False</td>\n",
       "      <td>False</td>\n",
       "      <td>False</td>\n",
       "      <td>False</td>\n",
       "      <td>False</td>\n",
       "      <td>False</td>\n",
       "      <td>False</td>\n",
       "      <td>False</td>\n",
       "    </tr>\n",
       "    <tr>\n",
       "      <th>3</th>\n",
       "      <td>False</td>\n",
       "      <td>False</td>\n",
       "      <td>False</td>\n",
       "      <td>False</td>\n",
       "      <td>False</td>\n",
       "      <td>False</td>\n",
       "      <td>False</td>\n",
       "      <td>False</td>\n",
       "    </tr>\n",
       "    <tr>\n",
       "      <th>4</th>\n",
       "      <td>False</td>\n",
       "      <td>False</td>\n",
       "      <td>False</td>\n",
       "      <td>False</td>\n",
       "      <td>False</td>\n",
       "      <td>False</td>\n",
       "      <td>False</td>\n",
       "      <td>False</td>\n",
       "    </tr>\n",
       "    <tr>\n",
       "      <th>...</th>\n",
       "      <td>...</td>\n",
       "      <td>...</td>\n",
       "      <td>...</td>\n",
       "      <td>...</td>\n",
       "      <td>...</td>\n",
       "      <td>...</td>\n",
       "      <td>...</td>\n",
       "      <td>...</td>\n",
       "    </tr>\n",
       "    <tr>\n",
       "      <th>393</th>\n",
       "      <td>False</td>\n",
       "      <td>False</td>\n",
       "      <td>False</td>\n",
       "      <td>False</td>\n",
       "      <td>False</td>\n",
       "      <td>False</td>\n",
       "      <td>False</td>\n",
       "      <td>False</td>\n",
       "    </tr>\n",
       "    <tr>\n",
       "      <th>394</th>\n",
       "      <td>False</td>\n",
       "      <td>False</td>\n",
       "      <td>False</td>\n",
       "      <td>False</td>\n",
       "      <td>False</td>\n",
       "      <td>False</td>\n",
       "      <td>False</td>\n",
       "      <td>False</td>\n",
       "    </tr>\n",
       "    <tr>\n",
       "      <th>395</th>\n",
       "      <td>False</td>\n",
       "      <td>False</td>\n",
       "      <td>False</td>\n",
       "      <td>False</td>\n",
       "      <td>False</td>\n",
       "      <td>False</td>\n",
       "      <td>False</td>\n",
       "      <td>False</td>\n",
       "    </tr>\n",
       "    <tr>\n",
       "      <th>396</th>\n",
       "      <td>False</td>\n",
       "      <td>False</td>\n",
       "      <td>False</td>\n",
       "      <td>False</td>\n",
       "      <td>False</td>\n",
       "      <td>False</td>\n",
       "      <td>False</td>\n",
       "      <td>False</td>\n",
       "    </tr>\n",
       "    <tr>\n",
       "      <th>397</th>\n",
       "      <td>False</td>\n",
       "      <td>False</td>\n",
       "      <td>False</td>\n",
       "      <td>False</td>\n",
       "      <td>False</td>\n",
       "      <td>False</td>\n",
       "      <td>False</td>\n",
       "      <td>False</td>\n",
       "    </tr>\n",
       "  </tbody>\n",
       "</table>\n",
       "<p>398 rows × 8 columns</p>\n",
       "</div>"
      ],
      "text/plain": [
       "       mpg  cylinders  displacement  horsepower  weight  acceleration  \\\n",
       "0    False      False         False       False   False         False   \n",
       "1    False      False         False       False   False         False   \n",
       "2    False      False         False       False   False         False   \n",
       "3    False      False         False       False   False         False   \n",
       "4    False      False         False       False   False         False   \n",
       "..     ...        ...           ...         ...     ...           ...   \n",
       "393  False      False         False       False   False         False   \n",
       "394  False      False         False       False   False         False   \n",
       "395  False      False         False       False   False         False   \n",
       "396  False      False         False       False   False         False   \n",
       "397  False      False         False       False   False         False   \n",
       "\n",
       "     model year  origin  \n",
       "0         False   False  \n",
       "1         False   False  \n",
       "2         False   False  \n",
       "3         False   False  \n",
       "4         False   False  \n",
       "..          ...     ...  \n",
       "393       False   False  \n",
       "394       False   False  \n",
       "395       False   False  \n",
       "396       False   False  \n",
       "397       False   False  \n",
       "\n",
       "[398 rows x 8 columns]"
      ]
     },
     "execution_count": 7,
     "metadata": {},
     "output_type": "execute_result"
    }
   ],
   "source": [
    "auto_df.isnull()"
   ]
  },
  {
   "cell_type": "code",
   "execution_count": 8,
   "id": "905826e9",
   "metadata": {},
   "outputs": [
    {
     "data": {
      "text/plain": [
       "mpg             0\n",
       "cylinders       0\n",
       "displacement    0\n",
       "horsepower      0\n",
       "weight          0\n",
       "acceleration    0\n",
       "model year      0\n",
       "origin          0\n",
       "dtype: int64"
      ]
     },
     "execution_count": 8,
     "metadata": {},
     "output_type": "execute_result"
    }
   ],
   "source": [
    "auto_df.isna().sum()"
   ]
  },
  {
   "cell_type": "code",
   "execution_count": 9,
   "id": "abc94b2d",
   "metadata": {},
   "outputs": [
    {
     "data": {
      "text/plain": [
       "False"
      ]
     },
     "execution_count": 9,
     "metadata": {},
     "output_type": "execute_result"
    }
   ],
   "source": [
    "auto_df.isnull().values.any()"
   ]
  },
  {
   "cell_type": "code",
   "execution_count": null,
   "id": "37a98cb9",
   "metadata": {},
   "outputs": [],
   "source": []
  },
  {
   "cell_type": "code",
   "execution_count": 10,
   "id": "d14399f1",
   "metadata": {},
   "outputs": [
    {
     "data": {
      "text/plain": [
       "0"
      ]
     },
     "execution_count": 10,
     "metadata": {},
     "output_type": "execute_result"
    }
   ],
   "source": [
    "auto_df['horsepower'].isna().sum()"
   ]
  },
  {
   "cell_type": "code",
   "execution_count": 11,
   "id": "ee4e3ca5",
   "metadata": {},
   "outputs": [
    {
     "data": {
      "text/plain": [
       "array(['130', '165', '150', '140', '198', '220', '215', '225', '190',\n",
       "       '170', '160', '95', '97', '85', '88', '46', '87', '90', '113',\n",
       "       '200', '210', '193', '?', '100', '105', '175', '153', '180', '110',\n",
       "       '72', '86', '70', '76', '65', '69', '60', '80', '54', '208', '155',\n",
       "       '112', '92', '145', '137', '158', '167', '94', '107', '230', '49',\n",
       "       '75', '91', '122', '67', '83', '78', '52', '61', '93', '148',\n",
       "       '129', '96', '71', '98', '115', '53', '81', '79', '120', '152',\n",
       "       '102', '108', '68', '58', '149', '89', '63', '48', '66', '139',\n",
       "       '103', '125', '133', '138', '135', '142', '77', '62', '132', '84',\n",
       "       '64', '74', '116', '82'], dtype=object)"
      ]
     },
     "execution_count": 11,
     "metadata": {},
     "output_type": "execute_result"
    }
   ],
   "source": [
    "auto_df['horsepower'].unique()"
   ]
  },
  {
   "cell_type": "code",
   "execution_count": 12,
   "id": "771a9b0e",
   "metadata": {},
   "outputs": [
    {
     "data": {
      "text/plain": [
       "94"
      ]
     },
     "execution_count": 12,
     "metadata": {},
     "output_type": "execute_result"
    }
   ],
   "source": [
    "auto_df['horsepower'].nunique()"
   ]
  },
  {
   "cell_type": "code",
   "execution_count": 13,
   "id": "3f9c7595",
   "metadata": {},
   "outputs": [
    {
     "data": {
      "text/plain": [
       "False"
      ]
     },
     "execution_count": 13,
     "metadata": {},
     "output_type": "execute_result"
    }
   ],
   "source": [
    "pd.to_numeric(auto_df['horsepower'], errors='coerce').notnull().all()"
   ]
  },
  {
   "cell_type": "code",
   "execution_count": 14,
   "id": "a6467ed9",
   "metadata": {},
   "outputs": [
    {
     "data": {
      "text/html": [
       "<div>\n",
       "<style scoped>\n",
       "    .dataframe tbody tr th:only-of-type {\n",
       "        vertical-align: middle;\n",
       "    }\n",
       "\n",
       "    .dataframe tbody tr th {\n",
       "        vertical-align: top;\n",
       "    }\n",
       "\n",
       "    .dataframe thead th {\n",
       "        text-align: right;\n",
       "    }\n",
       "</style>\n",
       "<table border=\"1\" class=\"dataframe\">\n",
       "  <thead>\n",
       "    <tr style=\"text-align: right;\">\n",
       "      <th></th>\n",
       "      <th>mpg</th>\n",
       "      <th>cylinders</th>\n",
       "      <th>displacement</th>\n",
       "      <th>horsepower</th>\n",
       "      <th>weight</th>\n",
       "      <th>acceleration</th>\n",
       "      <th>model year</th>\n",
       "      <th>origin</th>\n",
       "    </tr>\n",
       "  </thead>\n",
       "  <tbody>\n",
       "  </tbody>\n",
       "</table>\n",
       "</div>"
      ],
      "text/plain": [
       "Empty DataFrame\n",
       "Columns: [mpg, cylinders, displacement, horsepower, weight, acceleration, model year, origin]\n",
       "Index: []"
      ]
     },
     "execution_count": 14,
     "metadata": {},
     "output_type": "execute_result"
    }
   ],
   "source": [
    "auto_df[auto_df['horsepower'].isnull()].head()"
   ]
  },
  {
   "cell_type": "code",
   "execution_count": 15,
   "id": "a83f88a3",
   "metadata": {},
   "outputs": [],
   "source": [
    "# Convert 'horsepower' to float\n",
    "auto_df['horsepower'] = auto_df['horsepower'].apply(pd.to_numeric, errors='coerce')"
   ]
  },
  {
   "cell_type": "code",
   "execution_count": 16,
   "id": "a1770e75",
   "metadata": {},
   "outputs": [
    {
     "data": {
      "text/plain": [
       "dtype('float64')"
      ]
     },
     "execution_count": 16,
     "metadata": {},
     "output_type": "execute_result"
    }
   ],
   "source": [
    "auto_df['horsepower'].dtype"
   ]
  },
  {
   "cell_type": "code",
   "execution_count": 17,
   "id": "7a690f15",
   "metadata": {},
   "outputs": [],
   "source": [
    "# Replace nulls with column mean\n",
    "auto_df['horsepower'].fillna(float(auto_df['horsepower'].mean()), inplace=True)"
   ]
  },
  {
   "cell_type": "code",
   "execution_count": 18,
   "id": "67b2324a",
   "metadata": {},
   "outputs": [
    {
     "data": {
      "text/plain": [
       "104.46938775510206"
      ]
     },
     "execution_count": 18,
     "metadata": {},
     "output_type": "execute_result"
    }
   ],
   "source": [
    "auto_df['horsepower'].mean()"
   ]
  },
  {
   "cell_type": "code",
   "execution_count": 19,
   "id": "6fb085bf",
   "metadata": {},
   "outputs": [
    {
     "data": {
      "text/plain": [
       "array([130.        , 165.        , 150.        , 140.        ,\n",
       "       198.        , 220.        , 215.        , 225.        ,\n",
       "       190.        , 170.        , 160.        ,  95.        ,\n",
       "        97.        ,  85.        ,  88.        ,  46.        ,\n",
       "        87.        ,  90.        , 113.        , 200.        ,\n",
       "       210.        , 193.        , 104.46938776, 100.        ,\n",
       "       105.        , 175.        , 153.        , 180.        ,\n",
       "       110.        ,  72.        ,  86.        ,  70.        ,\n",
       "        76.        ,  65.        ,  69.        ,  60.        ,\n",
       "        80.        ,  54.        , 208.        , 155.        ,\n",
       "       112.        ,  92.        , 145.        , 137.        ,\n",
       "       158.        , 167.        ,  94.        , 107.        ,\n",
       "       230.        ,  49.        ,  75.        ,  91.        ,\n",
       "       122.        ,  67.        ,  83.        ,  78.        ,\n",
       "        52.        ,  61.        ,  93.        , 148.        ,\n",
       "       129.        ,  96.        ,  71.        ,  98.        ,\n",
       "       115.        ,  53.        ,  81.        ,  79.        ,\n",
       "       120.        , 152.        , 102.        , 108.        ,\n",
       "        68.        ,  58.        , 149.        ,  89.        ,\n",
       "        63.        ,  48.        ,  66.        , 139.        ,\n",
       "       103.        , 125.        , 133.        , 138.        ,\n",
       "       135.        , 142.        ,  77.        ,  62.        ,\n",
       "       132.        ,  84.        ,  64.        ,  74.        ,\n",
       "       116.        ,  82.        ])"
      ]
     },
     "execution_count": 19,
     "metadata": {},
     "output_type": "execute_result"
    }
   ],
   "source": [
    "auto_df['horsepower'].unique()"
   ]
  },
  {
   "cell_type": "code",
   "execution_count": 20,
   "id": "ff2e05c2",
   "metadata": {},
   "outputs": [
    {
     "data": {
      "text/html": [
       "<div>\n",
       "<style scoped>\n",
       "    .dataframe tbody tr th:only-of-type {\n",
       "        vertical-align: middle;\n",
       "    }\n",
       "\n",
       "    .dataframe tbody tr th {\n",
       "        vertical-align: top;\n",
       "    }\n",
       "\n",
       "    .dataframe thead th {\n",
       "        text-align: right;\n",
       "    }\n",
       "</style>\n",
       "<table border=\"1\" class=\"dataframe\">\n",
       "  <thead>\n",
       "    <tr style=\"text-align: right;\">\n",
       "      <th></th>\n",
       "      <th>1</th>\n",
       "      <th>2</th>\n",
       "      <th>3</th>\n",
       "    </tr>\n",
       "  </thead>\n",
       "  <tbody>\n",
       "    <tr>\n",
       "      <th>0</th>\n",
       "      <td>1</td>\n",
       "      <td>0</td>\n",
       "      <td>0</td>\n",
       "    </tr>\n",
       "    <tr>\n",
       "      <th>1</th>\n",
       "      <td>1</td>\n",
       "      <td>0</td>\n",
       "      <td>0</td>\n",
       "    </tr>\n",
       "    <tr>\n",
       "      <th>2</th>\n",
       "      <td>1</td>\n",
       "      <td>0</td>\n",
       "      <td>0</td>\n",
       "    </tr>\n",
       "    <tr>\n",
       "      <th>3</th>\n",
       "      <td>1</td>\n",
       "      <td>0</td>\n",
       "      <td>0</td>\n",
       "    </tr>\n",
       "    <tr>\n",
       "      <th>4</th>\n",
       "      <td>1</td>\n",
       "      <td>0</td>\n",
       "      <td>0</td>\n",
       "    </tr>\n",
       "    <tr>\n",
       "      <th>...</th>\n",
       "      <td>...</td>\n",
       "      <td>...</td>\n",
       "      <td>...</td>\n",
       "    </tr>\n",
       "    <tr>\n",
       "      <th>393</th>\n",
       "      <td>1</td>\n",
       "      <td>0</td>\n",
       "      <td>0</td>\n",
       "    </tr>\n",
       "    <tr>\n",
       "      <th>394</th>\n",
       "      <td>0</td>\n",
       "      <td>1</td>\n",
       "      <td>0</td>\n",
       "    </tr>\n",
       "    <tr>\n",
       "      <th>395</th>\n",
       "      <td>1</td>\n",
       "      <td>0</td>\n",
       "      <td>0</td>\n",
       "    </tr>\n",
       "    <tr>\n",
       "      <th>396</th>\n",
       "      <td>1</td>\n",
       "      <td>0</td>\n",
       "      <td>0</td>\n",
       "    </tr>\n",
       "    <tr>\n",
       "      <th>397</th>\n",
       "      <td>1</td>\n",
       "      <td>0</td>\n",
       "      <td>0</td>\n",
       "    </tr>\n",
       "  </tbody>\n",
       "</table>\n",
       "<p>398 rows × 3 columns</p>\n",
       "</div>"
      ],
      "text/plain": [
       "     1  2  3\n",
       "0    1  0  0\n",
       "1    1  0  0\n",
       "2    1  0  0\n",
       "3    1  0  0\n",
       "4    1  0  0\n",
       "..  .. .. ..\n",
       "393  1  0  0\n",
       "394  0  1  0\n",
       "395  1  0  0\n",
       "396  1  0  0\n",
       "397  1  0  0\n",
       "\n",
       "[398 rows x 3 columns]"
      ]
     },
     "execution_count": 20,
     "metadata": {},
     "output_type": "execute_result"
    }
   ],
   "source": [
    "pd.get_dummies(auto_df['origin'])"
   ]
  },
  {
   "cell_type": "code",
   "execution_count": 21,
   "id": "60f6430e",
   "metadata": {},
   "outputs": [],
   "source": [
    "dmy_auto_df = pd.get_dummies(auto_df, columns=['origin'], prefix='dummy', prefix_sep='_')"
   ]
  },
  {
   "cell_type": "code",
   "execution_count": 22,
   "id": "2c458389",
   "metadata": {},
   "outputs": [
    {
     "data": {
      "text/plain": [
       "(398, 10)"
      ]
     },
     "execution_count": 22,
     "metadata": {},
     "output_type": "execute_result"
    }
   ],
   "source": [
    "dmy_auto_df.shape"
   ]
  },
  {
   "cell_type": "code",
   "execution_count": 23,
   "id": "fd1ecd01",
   "metadata": {},
   "outputs": [
    {
     "data": {
      "text/plain": [
       "(398, 8)"
      ]
     },
     "execution_count": 23,
     "metadata": {},
     "output_type": "execute_result"
    }
   ],
   "source": [
    "auto_df.shape"
   ]
  },
  {
   "cell_type": "code",
   "execution_count": 24,
   "id": "e65b10c2",
   "metadata": {},
   "outputs": [
    {
     "data": {
      "text/plain": [
       "0      1\n",
       "1      1\n",
       "2      1\n",
       "3      1\n",
       "4      1\n",
       "      ..\n",
       "393    1\n",
       "394    2\n",
       "395    1\n",
       "396    1\n",
       "397    1\n",
       "Name: origin, Length: 398, dtype: int64"
      ]
     },
     "execution_count": 24,
     "metadata": {},
     "output_type": "execute_result"
    }
   ],
   "source": [
    "auto_df['origin']"
   ]
  },
  {
   "cell_type": "code",
   "execution_count": 25,
   "id": "3f03338e",
   "metadata": {},
   "outputs": [
    {
     "data": {
      "text/html": [
       "<div>\n",
       "<style scoped>\n",
       "    .dataframe tbody tr th:only-of-type {\n",
       "        vertical-align: middle;\n",
       "    }\n",
       "\n",
       "    .dataframe tbody tr th {\n",
       "        vertical-align: top;\n",
       "    }\n",
       "\n",
       "    .dataframe thead th {\n",
       "        text-align: right;\n",
       "    }\n",
       "</style>\n",
       "<table border=\"1\" class=\"dataframe\">\n",
       "  <thead>\n",
       "    <tr style=\"text-align: right;\">\n",
       "      <th></th>\n",
       "      <th>mpg</th>\n",
       "      <th>cylinders</th>\n",
       "      <th>displacement</th>\n",
       "      <th>horsepower</th>\n",
       "      <th>weight</th>\n",
       "      <th>acceleration</th>\n",
       "      <th>model year</th>\n",
       "      <th>dummy_1</th>\n",
       "      <th>dummy_2</th>\n",
       "      <th>dummy_3</th>\n",
       "    </tr>\n",
       "  </thead>\n",
       "  <tbody>\n",
       "    <tr>\n",
       "      <th>mpg</th>\n",
       "      <td>1.000000</td>\n",
       "      <td>-0.775396</td>\n",
       "      <td>-0.804203</td>\n",
       "      <td>-0.771437</td>\n",
       "      <td>-0.831741</td>\n",
       "      <td>0.420289</td>\n",
       "      <td>0.579267</td>\n",
       "      <td>-0.568192</td>\n",
       "      <td>0.259022</td>\n",
       "      <td>0.442174</td>\n",
       "    </tr>\n",
       "    <tr>\n",
       "      <th>cylinders</th>\n",
       "      <td>-0.775396</td>\n",
       "      <td>1.000000</td>\n",
       "      <td>0.950721</td>\n",
       "      <td>0.838939</td>\n",
       "      <td>0.896017</td>\n",
       "      <td>-0.505419</td>\n",
       "      <td>-0.348746</td>\n",
       "      <td>0.604351</td>\n",
       "      <td>-0.352861</td>\n",
       "      <td>-0.396479</td>\n",
       "    </tr>\n",
       "    <tr>\n",
       "      <th>displacement</th>\n",
       "      <td>-0.804203</td>\n",
       "      <td>0.950721</td>\n",
       "      <td>1.000000</td>\n",
       "      <td>0.893646</td>\n",
       "      <td>0.932824</td>\n",
       "      <td>-0.543684</td>\n",
       "      <td>-0.370164</td>\n",
       "      <td>0.651407</td>\n",
       "      <td>-0.373886</td>\n",
       "      <td>-0.433505</td>\n",
       "    </tr>\n",
       "    <tr>\n",
       "      <th>horsepower</th>\n",
       "      <td>-0.771437</td>\n",
       "      <td>0.838939</td>\n",
       "      <td>0.893646</td>\n",
       "      <td>1.000000</td>\n",
       "      <td>0.860574</td>\n",
       "      <td>-0.684259</td>\n",
       "      <td>-0.411651</td>\n",
       "      <td>0.486083</td>\n",
       "      <td>-0.281258</td>\n",
       "      <td>-0.321325</td>\n",
       "    </tr>\n",
       "    <tr>\n",
       "      <th>weight</th>\n",
       "      <td>-0.831741</td>\n",
       "      <td>0.896017</td>\n",
       "      <td>0.932824</td>\n",
       "      <td>0.860574</td>\n",
       "      <td>1.000000</td>\n",
       "      <td>-0.417457</td>\n",
       "      <td>-0.306564</td>\n",
       "      <td>0.598398</td>\n",
       "      <td>-0.298843</td>\n",
       "      <td>-0.440817</td>\n",
       "    </tr>\n",
       "    <tr>\n",
       "      <th>acceleration</th>\n",
       "      <td>0.420289</td>\n",
       "      <td>-0.505419</td>\n",
       "      <td>-0.543684</td>\n",
       "      <td>-0.684259</td>\n",
       "      <td>-0.417457</td>\n",
       "      <td>1.000000</td>\n",
       "      <td>0.288137</td>\n",
       "      <td>-0.250806</td>\n",
       "      <td>0.204473</td>\n",
       "      <td>0.109144</td>\n",
       "    </tr>\n",
       "    <tr>\n",
       "      <th>model year</th>\n",
       "      <td>0.579267</td>\n",
       "      <td>-0.348746</td>\n",
       "      <td>-0.370164</td>\n",
       "      <td>-0.411651</td>\n",
       "      <td>-0.306564</td>\n",
       "      <td>0.288137</td>\n",
       "      <td>1.000000</td>\n",
       "      <td>-0.139883</td>\n",
       "      <td>-0.024489</td>\n",
       "      <td>0.193101</td>\n",
       "    </tr>\n",
       "    <tr>\n",
       "      <th>dummy_1</th>\n",
       "      <td>-0.568192</td>\n",
       "      <td>0.604351</td>\n",
       "      <td>0.651407</td>\n",
       "      <td>0.486083</td>\n",
       "      <td>0.598398</td>\n",
       "      <td>-0.250806</td>\n",
       "      <td>-0.139883</td>\n",
       "      <td>1.000000</td>\n",
       "      <td>-0.597198</td>\n",
       "      <td>-0.643317</td>\n",
       "    </tr>\n",
       "    <tr>\n",
       "      <th>dummy_2</th>\n",
       "      <td>0.259022</td>\n",
       "      <td>-0.352861</td>\n",
       "      <td>-0.373886</td>\n",
       "      <td>-0.281258</td>\n",
       "      <td>-0.298843</td>\n",
       "      <td>0.204473</td>\n",
       "      <td>-0.024489</td>\n",
       "      <td>-0.597198</td>\n",
       "      <td>1.000000</td>\n",
       "      <td>-0.229895</td>\n",
       "    </tr>\n",
       "    <tr>\n",
       "      <th>dummy_3</th>\n",
       "      <td>0.442174</td>\n",
       "      <td>-0.396479</td>\n",
       "      <td>-0.433505</td>\n",
       "      <td>-0.321325</td>\n",
       "      <td>-0.440817</td>\n",
       "      <td>0.109144</td>\n",
       "      <td>0.193101</td>\n",
       "      <td>-0.643317</td>\n",
       "      <td>-0.229895</td>\n",
       "      <td>1.000000</td>\n",
       "    </tr>\n",
       "  </tbody>\n",
       "</table>\n",
       "</div>"
      ],
      "text/plain": [
       "                   mpg  cylinders  displacement  horsepower    weight  \\\n",
       "mpg           1.000000  -0.775396     -0.804203   -0.771437 -0.831741   \n",
       "cylinders    -0.775396   1.000000      0.950721    0.838939  0.896017   \n",
       "displacement -0.804203   0.950721      1.000000    0.893646  0.932824   \n",
       "horsepower   -0.771437   0.838939      0.893646    1.000000  0.860574   \n",
       "weight       -0.831741   0.896017      0.932824    0.860574  1.000000   \n",
       "acceleration  0.420289  -0.505419     -0.543684   -0.684259 -0.417457   \n",
       "model year    0.579267  -0.348746     -0.370164   -0.411651 -0.306564   \n",
       "dummy_1      -0.568192   0.604351      0.651407    0.486083  0.598398   \n",
       "dummy_2       0.259022  -0.352861     -0.373886   -0.281258 -0.298843   \n",
       "dummy_3       0.442174  -0.396479     -0.433505   -0.321325 -0.440817   \n",
       "\n",
       "              acceleration  model year   dummy_1   dummy_2   dummy_3  \n",
       "mpg               0.420289    0.579267 -0.568192  0.259022  0.442174  \n",
       "cylinders        -0.505419   -0.348746  0.604351 -0.352861 -0.396479  \n",
       "displacement     -0.543684   -0.370164  0.651407 -0.373886 -0.433505  \n",
       "horsepower       -0.684259   -0.411651  0.486083 -0.281258 -0.321325  \n",
       "weight           -0.417457   -0.306564  0.598398 -0.298843 -0.440817  \n",
       "acceleration      1.000000    0.288137 -0.250806  0.204473  0.109144  \n",
       "model year        0.288137    1.000000 -0.139883 -0.024489  0.193101  \n",
       "dummy_1          -0.250806   -0.139883  1.000000 -0.597198 -0.643317  \n",
       "dummy_2           0.204473   -0.024489 -0.597198  1.000000 -0.229895  \n",
       "dummy_3           0.109144    0.193101 -0.643317 -0.229895  1.000000  "
      ]
     },
     "execution_count": 25,
     "metadata": {},
     "output_type": "execute_result"
    }
   ],
   "source": [
    "import numpy as np\n",
    "import matplotlib.pyplot as plt\n",
    "import seaborn as sns\n",
    "auto_mx = dmy_auto_df.corr()\n",
    "auto_mx\n",
    "# Weight, displacement, horsepower, and cylinders have high negative correlation.\n",
    "# Model year, and acceleration have a lesser, positive correlation with mpg.\n"
   ]
  },
  {
   "cell_type": "code",
   "execution_count": 26,
   "id": "27db48bc",
   "metadata": {},
   "outputs": [
    {
     "data": {
      "text/plain": [
       "<AxesSubplot:>"
      ]
     },
     "execution_count": 26,
     "metadata": {},
     "output_type": "execute_result"
    },
    {
     "data": {
      "image/png": "[encoded data removed]",
      "text/plain": [
       "<Figure size 576x432 with 2 Axes>"
      ]
     },
     "metadata": {
      "needs_background": "light"
     },
     "output_type": "display_data"
    }
   ],
   "source": [
    "plt.figure(figsize=(8,6))\n",
    "sns.set_context('paper', font_scale=1.2)\n",
    "sns.heatmap(auto_mx, annot=True, cmap='Blues', linecolor='red', linewidth=1)"
   ]
  },
  {
   "cell_type": "code",
   "execution_count": 27,
   "id": "30e613dd",
   "metadata": {},
   "outputs": [
    {
     "data": {
      "text/plain": [
       "<Figure size 720x720 with 0 Axes>"
      ]
     },
     "metadata": {},
     "output_type": "display_data"
    },
    {
     "data": {
      "image/png": "[encoded data removed]",
      "text/plain": [
       "<Figure size 432x288 with 1 Axes>"
      ]
     },
     "metadata": {
      "needs_background": "light"
     },
     "output_type": "display_data"
    }
   ],
   "source": [
    "# plot mpg vs weight\n",
    "import matplotlib.pyplot as plt\n",
    "plt.figure(figsize=(10,10))\n",
    "dmy_auto_df.plot(kind = 'scatter', x = 'weight', y = 'mpg')\n",
    "plt.title('Weight vs MPG', fontsize=16)\n",
    "plt.show()\n"
   ]
  },
  {
   "cell_type": "markdown",
   "id": "16a18c63",
   "metadata": {},
   "source": [
    "#  The scatter plot shows the strong negative correlation of -0.83."
   ]
  },
  {
   "cell_type": "markdown",
   "id": "d30fe18b",
   "metadata": {},
   "source": [
    "#  There exists heteroscedasticity"
   ]
  },
  {
   "cell_type": "markdown",
   "id": "4678fa34",
   "metadata": {},
   "source": [
    "#  Note the lesser dispersion of data at higher weights and lesser mpg."
   ]
  },
  {
   "cell_type": "code",
   "execution_count": 28,
   "id": "1a1c02c6",
   "metadata": {},
   "outputs": [
    {
     "name": "stdout",
     "output_type": "stream",
     "text": [
      "Collecting scikit-learn==0.23.1"
     ]
    },
    {
     "name": "stderr",
     "output_type": "stream",
     "text": [
      "  ERROR: Command errored out with exit status 1:\n",
      "   command: 'C:\\Users\\Admin\\anaconda3\\python.exe' 'C:\\Users\\Admin\\AppData\\Local\\Temp\\pip-standalone-pip-46vrj62z\\__env_pip__.zip\\pip' install --ignore-installed --no-user --prefix 'C:\\Users\\Admin\\AppData\\Local\\Temp\\pip-build-env-fkz24ujr\\overlay' --no-warn-script-location --no-binary :none: --only-binary :none: -i https://pypi.org/simple -- setuptools wheel 'Cython>=0.28.5' 'numpy==1.13.3; python_version=='\"'\"'3.6'\"'\"' and platform_system!='\"'\"'AIX'\"'\"' and platform_python_implementation == '\"'\"'CPython'\"'\"'' 'numpy==1.14.0; python_version=='\"'\"'3.6'\"'\"' and platform_system!='\"'\"'AIX'\"'\"' and platform_python_implementation != '\"'\"'CPython'\"'\"'' 'numpy==1.14.5; python_version=='\"'\"'3.7'\"'\"' and platform_system!='\"'\"'AIX'\"'\"'' 'numpy==1.17.3; python_version>='\"'\"'3.8'\"'\"' and platform_system!='\"'\"'AIX'\"'\"'' 'numpy==1.16.0; python_version=='\"'\"'3.6'\"'\"' and platform_system=='\"'\"'AIX'\"'\"'' 'numpy==1.16.0; python_version=='\"'\"'3.7'\"'\"' and platform_system=='\"'\"'AIX'\"'\"'' 'numpy==1.17.3; python_version>='\"'\"'3.8'\"'\"' and platform_system=='\"'\"'AIX'\"'\"'' 'scipy>=0.19.1'\n",
      "       cwd: None\n",
      "  Complete output (599 lines):\n",
      "  Ignoring numpy: markers 'python_version == \"3.6\" and platform_system != \"AIX\" and platform_python_implementation == \"CPython\"' don't match your environment\n",
      "  Ignoring numpy: markers 'python_version == \"3.6\" and platform_system != \"AIX\" and platform_python_implementation != \"CPython\"' don't match your environment\n",
      "  Ignoring numpy: markers 'python_version == \"3.7\" and platform_system != \"AIX\"' don't match your environment\n",
      "  Ignoring numpy: markers 'python_version == \"3.6\" and platform_system == \"AIX\"' don't match your environment\n",
      "  Ignoring numpy: markers 'python_version == \"3.7\" and platform_system == \"AIX\"' don't match your environment\n",
      "  Ignoring numpy: markers 'python_version >= \"3.8\" and platform_system == \"AIX\"' don't match your environment\n",
      "  Collecting setuptools\n",
      "    Using cached setuptools-65.6.3-py3-none-any.whl (1.2 MB)\n",
      "  Collecting wheel\n",
      "    Using cached wheel-0.38.4-py3-none-any.whl (36 kB)\n",
      "  Collecting Cython>=0.28.5\n",
      "    Using cached Cython-0.29.32-py2.py3-none-any.whl (986 kB)\n",
      "  Collecting numpy==1.17.3\n",
      "    Using cached numpy-1.17.3.zip (6.4 MB)\n",
      "  Collecting scipy>=0.19.1\n",
      "    Using cached scipy-1.9.3-cp39-cp39-win_amd64.whl (40.2 MB)\n",
      "    Using cached scipy-1.9.2-cp39-cp39-win_amd64.whl (40.1 MB)\n",
      "    Using cached scipy-1.9.1-cp39-cp39-win_amd64.whl (38.6 MB)\n",
      "    Using cached scipy-1.9.0-cp39-cp39-win_amd64.whl (38.6 MB)\n",
      "    Using cached scipy-1.8.1-cp39-cp39-win_amd64.whl (36.9 MB)\n",
      "  Building wheels for collected packages: numpy\n",
      "    Building wheel for numpy (setup.py): started\n",
      "    Building wheel for numpy (setup.py): finished with status 'error'\n",
      "    ERROR: Command errored out with exit status 1:\n",
      "     command: 'C:\\Users\\Admin\\anaconda3\\python.exe' -u -c 'import io, os, sys, setuptools, tokenize; sys.argv[0] = '\"'\"'C:\\\\Users\\\\Admin\\\\AppData\\\\Local\\\\Temp\\\\pip-install-nl7_ue86\\\\numpy_dab0ade5587a44f7929e6671b12f1a05\\\\setup.py'\"'\"'; __file__='\"'\"'C:\\\\Users\\\\Admin\\\\AppData\\\\Local\\\\Temp\\\\pip-install-nl7_ue86\\\\numpy_dab0ade5587a44f7929e6671b12f1a05\\\\setup.py'\"'\"';f = getattr(tokenize, '\"'\"'open'\"'\"', open)(__file__) if os.path.exists(__file__) else io.StringIO('\"'\"'from setuptools import setup; setup()'\"'\"');code = f.read().replace('\"'\"'\\r\\n'\"'\"', '\"'\"'\\n'\"'\"');f.close();exec(compile(code, __file__, '\"'\"'exec'\"'\"'))' bdist_wheel -d 'C:\\Users\\Admin\\AppData\\Local\\Temp\\pip-wheel-8y2hrgvc'\n",
      "         cwd: C:\\Users\\Admin\\AppData\\Local\\Temp\\pip-install-nl7_ue86\\numpy_dab0ade5587a44f7929e6671b12f1a05\\\n",
      "    Complete output (268 lines):\n",
      "    Running from numpy source directory.\n"
     ]
    },
    {
     "name": "stdout",
     "output_type": "stream",
     "text": [
      "\n",
      "  Using cached scikit-learn-0.23.1.tar.gz (7.2 MB)\n",
      "  Installing build dependencies: started\n",
      "  Installing build dependencies: finished with status 'error'\n"
     ]
    },
    {
     "name": "stderr",
     "output_type": "stream",
     "text": [
      "    blas_opt_info:\n",
      "    blas_mkl_info:\n",
      "    No module named 'numpy.distutils._msvccompiler' in numpy.distutils; trying from distutils\n",
      "    customize MSVCCompiler\n",
      "      libraries mkl_rt not found in ['C:\\\\Users\\\\Admin\\\\anaconda3\\\\lib', 'C:\\\\', 'C:\\\\Users\\\\Admin\\\\anaconda3\\\\libs']\n",
      "      NOT AVAILABLE\n",
      "  \n",
      "    blis_info:\n",
      "    No module named 'numpy.distutils._msvccompiler' in numpy.distutils; trying from distutils\n",
      "    customize MSVCCompiler\n",
      "      libraries blis not found in ['C:\\\\Users\\\\Admin\\\\anaconda3\\\\lib', 'C:\\\\', 'C:\\\\Users\\\\Admin\\\\anaconda3\\\\libs']\n",
      "      NOT AVAILABLE\n",
      "  \n",
      "    openblas_info:\n",
      "    No module named 'numpy.distutils._msvccompiler' in numpy.distutils; trying from distutils\n",
      "    customize MSVCCompiler\n",
      "    No module named 'numpy.distutils._msvccompiler' in numpy.distutils; trying from distutils\n",
      "    customize MSVCCompiler\n",
      "      libraries openblas not found in ['C:\\\\Users\\\\Admin\\\\anaconda3\\\\lib', 'C:\\\\', 'C:\\\\Users\\\\Admin\\\\anaconda3\\\\libs']\n",
      "    get_default_fcompiler: matching types: '['gnu', 'intelv', 'absoft', 'compaqv', 'intelev', 'gnu95', 'g95', 'intelvem', 'intelem', 'flang']'\n",
      "    customize GnuFCompiler\n",
      "    Could not locate executable g77\n",
      "    Could not locate executable f77\n",
      "    customize IntelVisualFCompiler\n",
      "    Could not locate executable ifort\n",
      "    Could not locate executable ifl\n",
      "    customize AbsoftFCompiler\n",
      "    Could not locate executable f90\n",
      "    customize CompaqVisualFCompiler\n",
      "    Could not locate executable DF\n",
      "    customize IntelItaniumVisualFCompiler\n",
      "    Could not locate executable efl\n",
      "    customize Gnu95FCompiler\n",
      "    Could not locate executable gfortran\n",
      "    Could not locate executable f95\n",
      "    customize G95FCompiler\n",
      "    Could not locate executable g95\n",
      "    customize IntelEM64VisualFCompiler\n",
      "    customize IntelEM64TFCompiler\n",
      "    Could not locate executable efort\n",
      "    Could not locate executable efc\n",
      "    customize PGroupFlangCompiler\n",
      "    Could not locate executable flang\n",
      "    don't know how to compile Fortran code on platform 'nt'\n",
      "      NOT AVAILABLE\n",
      "  \n",
      "    atlas_3_10_blas_threads_info:\n",
      "    Setting PTATLAS=ATLAS\n",
      "    No module named 'numpy.distutils._msvccompiler' in numpy.distutils; trying from distutils\n",
      "    customize MSVCCompiler\n",
      "      libraries tatlas not found in ['C:\\\\Users\\\\Admin\\\\anaconda3\\\\lib', 'C:\\\\', 'C:\\\\Users\\\\Admin\\\\anaconda3\\\\libs']\n",
      "      NOT AVAILABLE\n",
      "  \n",
      "    atlas_3_10_blas_info:\n",
      "    No module named 'numpy.distutils._msvccompiler' in numpy.distutils; trying from distutils\n",
      "    customize MSVCCompiler\n",
      "      libraries satlas not found in ['C:\\\\Users\\\\Admin\\\\anaconda3\\\\lib', 'C:\\\\', 'C:\\\\Users\\\\Admin\\\\anaconda3\\\\libs']\n",
      "      NOT AVAILABLE\n",
      "  \n",
      "    atlas_blas_threads_info:\n",
      "    Setting PTATLAS=ATLAS\n",
      "    No module named 'numpy.distutils._msvccompiler' in numpy.distutils; trying from distutils\n",
      "    customize MSVCCompiler\n",
      "      libraries ptf77blas,ptcblas,atlas not found in ['C:\\\\Users\\\\Admin\\\\anaconda3\\\\lib', 'C:\\\\', 'C:\\\\Users\\\\Admin\\\\anaconda3\\\\libs']\n",
      "      NOT AVAILABLE\n",
      "  \n",
      "    atlas_blas_info:\n",
      "    No module named 'numpy.distutils._msvccompiler' in numpy.distutils; trying from distutils\n",
      "    customize MSVCCompiler\n",
      "      libraries f77blas,cblas,atlas not found in ['C:\\\\Users\\\\Admin\\\\anaconda3\\\\lib', 'C:\\\\', 'C:\\\\Users\\\\Admin\\\\anaconda3\\\\libs']\n",
      "      NOT AVAILABLE\n",
      "  \n",
      "    accelerate_info:\n",
      "      NOT AVAILABLE\n",
      "  \n",
      "    C:\\Users\\Admin\\AppData\\Local\\Temp\\pip-install-nl7_ue86\\numpy_dab0ade5587a44f7929e6671b12f1a05\\numpy\\distutils\\system_info.py:690: UserWarning:\n",
      "        Optimized (vendor) Blas libraries are not found.\n",
      "        Falls back to netlib Blas library which has worse performance.\n",
      "        A better performance should be easily gained by switching\n",
      "        Blas library.\n",
      "      self.calc_info()\n",
      "    blas_info:\n",
      "    No module named 'numpy.distutils._msvccompiler' in numpy.distutils; trying from distutils\n",
      "    customize MSVCCompiler\n",
      "      libraries blas not found in ['C:\\\\Users\\\\Admin\\\\anaconda3\\\\lib', 'C:\\\\', 'C:\\\\Users\\\\Admin\\\\anaconda3\\\\libs']\n",
      "      NOT AVAILABLE\n",
      "  \n",
      "    C:\\Users\\Admin\\AppData\\Local\\Temp\\pip-install-nl7_ue86\\numpy_dab0ade5587a44f7929e6671b12f1a05\\numpy\\distutils\\system_info.py:690: UserWarning:\n",
      "        Blas (http://www.netlib.org/blas/) libraries not found.\n",
      "        Directories to search for the libraries can be specified in the\n",
      "        numpy/distutils/site.cfg file (section [blas]) or by setting\n",
      "        the BLAS environment variable.\n",
      "      self.calc_info()\n",
      "    blas_src_info:\n",
      "      NOT AVAILABLE\n",
      "  \n",
      "    C:\\Users\\Admin\\AppData\\Local\\Temp\\pip-install-nl7_ue86\\numpy_dab0ade5587a44f7929e6671b12f1a05\\numpy\\distutils\\system_info.py:690: UserWarning:\n",
      "        Blas (http://www.netlib.org/blas/) sources not found.\n",
      "        Directories to search for the sources can be specified in the\n",
      "        numpy/distutils/site.cfg file (section [blas_src]) or by setting\n",
      "        the BLAS_SRC environment variable.\n",
      "      self.calc_info()\n",
      "      NOT AVAILABLE\n",
      "  \n",
      "    'svnversion' is not recognized as an internal or external command,\n",
      "    operable program or batch file.\n",
      "    non-existing path in 'numpy\\\\distutils': 'site.cfg'\n",
      "    lapack_opt_info:\n",
      "    lapack_mkl_info:\n",
      "    No module named 'numpy.distutils._msvccompiler' in numpy.distutils; trying from distutils\n",
      "    customize MSVCCompiler\n",
      "      libraries mkl_rt not found in ['C:\\\\Users\\\\Admin\\\\anaconda3\\\\lib', 'C:\\\\', 'C:\\\\Users\\\\Admin\\\\anaconda3\\\\libs']\n",
      "      NOT AVAILABLE\n",
      "  \n",
      "    openblas_lapack_info:\n",
      "    No module named 'numpy.distutils._msvccompiler' in numpy.distutils; trying from distutils\n",
      "    customize MSVCCompiler\n",
      "    No module named 'numpy.distutils._msvccompiler' in numpy.distutils; trying from distutils\n",
      "    customize MSVCCompiler\n",
      "      libraries openblas not found in ['C:\\\\Users\\\\Admin\\\\anaconda3\\\\lib', 'C:\\\\', 'C:\\\\Users\\\\Admin\\\\anaconda3\\\\libs']\n",
      "      NOT AVAILABLE\n",
      "  \n",
      "    openblas_clapack_info:\n",
      "    No module named 'numpy.distutils._msvccompiler' in numpy.distutils; trying from distutils\n",
      "    customize MSVCCompiler\n",
      "    No module named 'numpy.distutils._msvccompiler' in numpy.distutils; trying from distutils\n",
      "    customize MSVCCompiler\n",
      "      libraries openblas,lapack not found in ['C:\\\\Users\\\\Admin\\\\anaconda3\\\\lib', 'C:\\\\', 'C:\\\\Users\\\\Admin\\\\anaconda3\\\\libs']\n",
      "      NOT AVAILABLE\n",
      "  \n",
      "    flame_info:\n",
      "    No module named 'numpy.distutils._msvccompiler' in numpy.distutils; trying from distutils\n",
      "    customize MSVCCompiler\n",
      "      libraries flame not found in ['C:\\\\Users\\\\Admin\\\\anaconda3\\\\lib', 'C:\\\\', 'C:\\\\Users\\\\Admin\\\\anaconda3\\\\libs']\n",
      "      NOT AVAILABLE\n",
      "  \n",
      "    atlas_3_10_threads_info:\n",
      "    Setting PTATLAS=ATLAS\n",
      "    No module named 'numpy.distutils._msvccompiler' in numpy.distutils; trying from distutils\n",
      "    customize MSVCCompiler\n",
      "      libraries lapack_atlas not found in C:\\Users\\Admin\\anaconda3\\lib\n",
      "    No module named 'numpy.distutils._msvccompiler' in numpy.distutils; trying from distutils\n",
      "    customize MSVCCompiler\n",
      "      libraries tatlas,tatlas not found in C:\\Users\\Admin\\anaconda3\\lib\n",
      "    No module named 'numpy.distutils._msvccompiler' in numpy.distutils; trying from distutils\n",
      "    customize MSVCCompiler\n",
      "      libraries lapack_atlas not found in C:\\\n",
      "    No module named 'numpy.distutils._msvccompiler' in numpy.distutils; trying from distutils\n",
      "    customize MSVCCompiler\n",
      "      libraries tatlas,tatlas not found in C:\\\n",
      "    No module named 'numpy.distutils._msvccompiler' in numpy.distutils; trying from distutils\n",
      "    customize MSVCCompiler\n",
      "      libraries lapack_atlas not found in C:\\Users\\Admin\\anaconda3\\libs\n",
      "    No module named 'numpy.distutils._msvccompiler' in numpy.distutils; trying from distutils\n",
      "    customize MSVCCompiler\n",
      "      libraries tatlas,tatlas not found in C:\\Users\\Admin\\anaconda3\\libs\n",
      "    <class 'numpy.distutils.system_info.atlas_3_10_threads_info'>\n",
      "      NOT AVAILABLE\n",
      "  \n",
      "    atlas_3_10_info:\n",
      "    No module named 'numpy.distutils._msvccompiler' in numpy.distutils; trying from distutils\n",
      "    customize MSVCCompiler\n",
      "      libraries lapack_atlas not found in C:\\Users\\Admin\\anaconda3\\lib\n",
      "    No module named 'numpy.distutils._msvccompiler' in numpy.distutils; trying from distutils\n",
      "    customize MSVCCompiler\n",
      "      libraries satlas,satlas not found in C:\\Users\\Admin\\anaconda3\\lib\n",
      "    No module named 'numpy.distutils._msvccompiler' in numpy.distutils; trying from distutils\n",
      "    customize MSVCCompiler\n",
      "      libraries lapack_atlas not found in C:\\\n",
      "    No module named 'numpy.distutils._msvccompiler' in numpy.distutils; trying from distutils\n",
      "    customize MSVCCompiler\n",
      "      libraries satlas,satlas not found in C:\\\n",
      "    No module named 'numpy.distutils._msvccompiler' in numpy.distutils; trying from distutils\n",
      "    customize MSVCCompiler\n",
      "      libraries lapack_atlas not found in C:\\Users\\Admin\\anaconda3\\libs\n",
      "    No module named 'numpy.distutils._msvccompiler' in numpy.distutils; trying from distutils\n",
      "    customize MSVCCompiler\n",
      "      libraries satlas,satlas not found in C:\\Users\\Admin\\anaconda3\\libs\n",
      "    <class 'numpy.distutils.system_info.atlas_3_10_info'>\n",
      "      NOT AVAILABLE\n",
      "  \n",
      "    atlas_threads_info:\n",
      "    Setting PTATLAS=ATLAS\n",
      "    No module named 'numpy.distutils._msvccompiler' in numpy.distutils; trying from distutils\n",
      "    customize MSVCCompiler\n",
      "      libraries lapack_atlas not found in C:\\Users\\Admin\\anaconda3\\lib\n",
      "    No module named 'numpy.distutils._msvccompiler' in numpy.distutils; trying from distutils\n",
      "    customize MSVCCompiler\n",
      "      libraries ptf77blas,ptcblas,atlas not found in C:\\Users\\Admin\\anaconda3\\lib\n",
      "    No module named 'numpy.distutils._msvccompiler' in numpy.distutils; trying from distutils\n",
      "    customize MSVCCompiler\n",
      "      libraries lapack_atlas not found in C:\\\n",
      "    No module named 'numpy.distutils._msvccompiler' in numpy.distutils; trying from distutils\n",
      "    customize MSVCCompiler\n",
      "      libraries ptf77blas,ptcblas,atlas not found in C:\\\n",
      "    No module named 'numpy.distutils._msvccompiler' in numpy.distutils; trying from distutils\n",
      "    customize MSVCCompiler\n",
      "      libraries lapack_atlas not found in C:\\Users\\Admin\\anaconda3\\libs\n",
      "    No module named 'numpy.distutils._msvccompiler' in numpy.distutils; trying from distutils\n",
      "    customize MSVCCompiler\n",
      "      libraries ptf77blas,ptcblas,atlas not found in C:\\Users\\Admin\\anaconda3\\libs\n",
      "    <class 'numpy.distutils.system_info.atlas_threads_info'>\n",
      "      NOT AVAILABLE\n",
      "  \n",
      "    atlas_info:\n",
      "    No module named 'numpy.distutils._msvccompiler' in numpy.distutils; trying from distutils\n",
      "    customize MSVCCompiler\n",
      "      libraries lapack_atlas not found in C:\\Users\\Admin\\anaconda3\\lib\n",
      "    No module named 'numpy.distutils._msvccompiler' in numpy.distutils; trying from distutils\n",
      "    customize MSVCCompiler\n",
      "      libraries f77blas,cblas,atlas not found in C:\\Users\\Admin\\anaconda3\\lib\n",
      "    No module named 'numpy.distutils._msvccompiler' in numpy.distutils; trying from distutils\n",
      "    customize MSVCCompiler\n",
      "      libraries lapack_atlas not found in C:\\\n",
      "    No module named 'numpy.distutils._msvccompiler' in numpy.distutils; trying from distutils\n",
      "    customize MSVCCompiler\n",
      "      libraries f77blas,cblas,atlas not found in C:\\\n",
      "    No module named 'numpy.distutils._msvccompiler' in numpy.distutils; trying from distutils\n",
      "    customize MSVCCompiler\n",
      "      libraries lapack_atlas not found in C:\\Users\\Admin\\anaconda3\\libs\n",
      "    No module named 'numpy.distutils._msvccompiler' in numpy.distutils; trying from distutils\n",
      "    customize MSVCCompiler\n",
      "      libraries f77blas,cblas,atlas not found in C:\\Users\\Admin\\anaconda3\\libs\n",
      "    <class 'numpy.distutils.system_info.atlas_info'>\n",
      "      NOT AVAILABLE\n",
      "  \n",
      "    lapack_info:\n",
      "    No module named 'numpy.distutils._msvccompiler' in numpy.distutils; trying from distutils\n",
      "    customize MSVCCompiler\n",
      "      libraries lapack not found in ['C:\\\\Users\\\\Admin\\\\anaconda3\\\\lib', 'C:\\\\', 'C:\\\\Users\\\\Admin\\\\anaconda3\\\\libs']\n",
      "      NOT AVAILABLE\n",
      "  \n",
      "    C:\\Users\\Admin\\AppData\\Local\\Temp\\pip-install-nl7_ue86\\numpy_dab0ade5587a44f7929e6671b12f1a05\\numpy\\distutils\\system_info.py:1712: UserWarning:\n",
      "        Lapack (http://www.netlib.org/lapack/) libraries not found.\n",
      "        Directories to search for the libraries can be specified in the\n",
      "        numpy/distutils/site.cfg file (section [lapack]) or by setting\n",
      "        the LAPACK environment variable.\n",
      "      if getattr(self, '_calc_info_{}'.format(lapack))():\n",
      "    lapack_src_info:\n",
      "      NOT AVAILABLE\n",
      "  \n",
      "    C:\\Users\\Admin\\AppData\\Local\\Temp\\pip-install-nl7_ue86\\numpy_dab0ade5587a44f7929e6671b12f1a05\\numpy\\distutils\\system_info.py:1712: UserWarning:\n",
      "        Lapack (http://www.netlib.org/lapack/) sources not found.\n",
      "        Directories to search for the sources can be specified in the\n",
      "        numpy/distutils/site.cfg file (section [lapack_src]) or by setting\n",
      "        the LAPACK_SRC environment variable.\n",
      "      if getattr(self, '_calc_info_{}'.format(lapack))():\n",
      "      NOT AVAILABLE\n",
      "  \n",
      "    C:\\Users\\Admin\\anaconda3\\lib\\site-packages\\setuptools\\_distutils\\dist.py:275: UserWarning: Unknown distribution option: 'define_macros'\n",
      "      warnings.warn(msg)\n",
      "    running bdist_wheel\n",
      "    running build\n",
      "    running config_cc\n",
      "    unifing config_cc, config, build_clib, build_ext, build commands --compiler options\n",
      "    running config_fc\n",
      "    unifing config_fc, config, build_clib, build_ext, build commands --fcompiler options\n",
      "    running build_src\n",
      "    build_src\n",
      "    building py_modules sources\n",
      "    creating build\n",
      "    creating build\\src.win-amd64-3.9\n",
      "    creating build\\src.win-amd64-3.9\\numpy\n",
      "    creating build\\src.win-amd64-3.9\\numpy\\distutils\n",
      "    building library \"npymath\" sources\n",
      "    No module named 'numpy.distutils._msvccompiler' in numpy.distutils; trying from distutils\n",
      "    error: Microsoft Visual C++ 14.0 or greater is required. Get it with \"Microsoft C++ Build Tools\": https://visualstudio.microsoft.com/visual-cpp-build-tools/\n",
      "    ----------------------------------------\n",
      "    ERROR: Failed building wheel for numpy\n",
      "    Running setup.py clean for numpy\n",
      "    ERROR: Command errored out with exit status 1:\n",
      "     command: 'C:\\Users\\Admin\\anaconda3\\python.exe' -u -c 'import io, os, sys, setuptools, tokenize; sys.argv[0] = '\"'\"'C:\\\\Users\\\\Admin\\\\AppData\\\\Local\\\\Temp\\\\pip-install-nl7_ue86\\\\numpy_dab0ade5587a44f7929e6671b12f1a05\\\\setup.py'\"'\"'; __file__='\"'\"'C:\\\\Users\\\\Admin\\\\AppData\\\\Local\\\\Temp\\\\pip-install-nl7_ue86\\\\numpy_dab0ade5587a44f7929e6671b12f1a05\\\\setup.py'\"'\"';f = getattr(tokenize, '\"'\"'open'\"'\"', open)(__file__) if os.path.exists(__file__) else io.StringIO('\"'\"'from setuptools import setup; setup()'\"'\"');code = f.read().replace('\"'\"'\\r\\n'\"'\"', '\"'\"'\\n'\"'\"');f.close();exec(compile(code, __file__, '\"'\"'exec'\"'\"'))' clean --all\n",
      "         cwd: C:\\Users\\Admin\\AppData\\Local\\Temp\\pip-install-nl7_ue86\\numpy_dab0ade5587a44f7929e6671b12f1a05\n",
      "    Complete output (10 lines):\n",
      "    Running from numpy source directory.\n",
      "  \n",
      "    `setup.py clean` is not supported, use one of the following instead:\n",
      "  \n",
      "      - `git clean -xdf` (cleans all files)\n",
      "      - `git clean -Xdf` (cleans all versioned files, doesn't touch\n",
      "                          files that aren't checked into the git repo)\n",
      "  \n",
      "    Add `--force` to your command to use it anyway if you must (unsupported).\n",
      "  \n",
      "    ----------------------------------------\n",
      "    ERROR: Failed cleaning build dir for numpy\n",
      "  Failed to build numpy\n",
      "  Installing collected packages: numpy, wheel, setuptools, scipy, Cython\n",
      "      Running setup.py install for numpy: started\n",
      "      Running setup.py install for numpy: finished with status 'error'\n",
      "      ERROR: Command errored out with exit status 1:\n",
      "       command: 'C:\\Users\\Admin\\anaconda3\\python.exe' -u -c 'import io, os, sys, setuptools, tokenize; sys.argv[0] = '\"'\"'C:\\\\Users\\\\Admin\\\\AppData\\\\Local\\\\Temp\\\\pip-install-nl7_ue86\\\\numpy_dab0ade5587a44f7929e6671b12f1a05\\\\setup.py'\"'\"'; __file__='\"'\"'C:\\\\Users\\\\Admin\\\\AppData\\\\Local\\\\Temp\\\\pip-install-nl7_ue86\\\\numpy_dab0ade5587a44f7929e6671b12f1a05\\\\setup.py'\"'\"';f = getattr(tokenize, '\"'\"'open'\"'\"', open)(__file__) if os.path.exists(__file__) else io.StringIO('\"'\"'from setuptools import setup; setup()'\"'\"');code = f.read().replace('\"'\"'\\r\\n'\"'\"', '\"'\"'\\n'\"'\"');f.close();exec(compile(code, __file__, '\"'\"'exec'\"'\"'))' install --record 'C:\\Users\\Admin\\AppData\\Local\\Temp\\pip-record-ht992atz\\install-record.txt' --single-version-externally-managed --prefix 'C:\\Users\\Admin\\AppData\\Local\\Temp\\pip-build-env-fkz24ujr\\overlay' --compile --install-headers 'C:\\Users\\Admin\\AppData\\Local\\Temp\\pip-build-env-fkz24ujr\\overlay\\Include\\numpy'\n",
      "           cwd: C:\\Users\\Admin\\AppData\\Local\\Temp\\pip-install-nl7_ue86\\numpy_dab0ade5587a44f7929e6671b12f1a05\\\n",
      "      Complete output (275 lines):\n",
      "      Running from numpy source directory.\n",
      "  \n",
      "      Note: if you need reliable uninstall behavior, then install\n",
      "      with pip instead of using `setup.py install`:\n",
      "  \n",
      "        - `pip install .`       (from a git repo or downloaded source\n",
      "                                 release)\n",
      "        - `pip install numpy`   (last NumPy release on PyPi)\n",
      "  \n",
      "  \n",
      "      blas_opt_info:\n",
      "      blas_mkl_info:\n",
      "      No module named 'numpy.distutils._msvccompiler' in numpy.distutils; trying from distutils\n",
      "      customize MSVCCompiler\n",
      "        libraries mkl_rt not found in ['C:\\\\Users\\\\Admin\\\\anaconda3\\\\lib', 'C:\\\\', 'C:\\\\Users\\\\Admin\\\\anaconda3\\\\libs']\n",
      "        NOT AVAILABLE\n",
      "  \n",
      "      blis_info:\n",
      "      No module named 'numpy.distutils._msvccompiler' in numpy.distutils; trying from distutils\n",
      "      customize MSVCCompiler\n",
      "        libraries blis not found in ['C:\\\\Users\\\\Admin\\\\anaconda3\\\\lib', 'C:\\\\', 'C:\\\\Users\\\\Admin\\\\anaconda3\\\\libs']\n",
      "        NOT AVAILABLE\n",
      "  \n",
      "      openblas_info:\n",
      "      No module named 'numpy.distutils._msvccompiler' in numpy.distutils; trying from distutils\n",
      "      customize MSVCCompiler\n",
      "      No module named 'numpy.distutils._msvccompiler' in numpy.distutils; trying from distutils\n",
      "      customize MSVCCompiler\n",
      "        libraries openblas not found in ['C:\\\\Users\\\\Admin\\\\anaconda3\\\\lib', 'C:\\\\', 'C:\\\\Users\\\\Admin\\\\anaconda3\\\\libs']\n",
      "      get_default_fcompiler: matching types: '['gnu', 'intelv', 'absoft', 'compaqv', 'intelev', 'gnu95', 'g95', 'intelvem', 'intelem', 'flang']'\n",
      "      customize GnuFCompiler\n",
      "      Could not locate executable g77\n",
      "      Could not locate executable f77\n",
      "      customize IntelVisualFCompiler\n",
      "      Could not locate executable ifort\n",
      "      Could not locate executable ifl\n",
      "      customize AbsoftFCompiler\n",
      "      Could not locate executable f90\n",
      "      customize CompaqVisualFCompiler\n",
      "      Could not locate executable DF\n",
      "      customize IntelItaniumVisualFCompiler\n",
      "      Could not locate executable efl\n",
      "      customize Gnu95FCompiler\n",
      "      Could not locate executable gfortran\n",
      "      Could not locate executable f95\n",
      "      customize G95FCompiler\n",
      "      Could not locate executable g95\n",
      "      customize IntelEM64VisualFCompiler\n",
      "      customize IntelEM64TFCompiler\n",
      "      Could not locate executable efort\n",
      "      Could not locate executable efc\n",
      "      customize PGroupFlangCompiler\n",
      "      Could not locate executable flang\n",
      "      don't know how to compile Fortran code on platform 'nt'\n",
      "        NOT AVAILABLE\n",
      "  \n",
      "      atlas_3_10_blas_threads_info:\n",
      "      Setting PTATLAS=ATLAS\n",
      "      No module named 'numpy.distutils._msvccompiler' in numpy.distutils; trying from distutils\n",
      "      customize MSVCCompiler\n",
      "        libraries tatlas not found in ['C:\\\\Users\\\\Admin\\\\anaconda3\\\\lib', 'C:\\\\', 'C:\\\\Users\\\\Admin\\\\anaconda3\\\\libs']\n",
      "        NOT AVAILABLE\n",
      "  \n",
      "      atlas_3_10_blas_info:\n",
      "      No module named 'numpy.distutils._msvccompiler' in numpy.distutils; trying from distutils\n",
      "      customize MSVCCompiler\n",
      "        libraries satlas not found in ['C:\\\\Users\\\\Admin\\\\anaconda3\\\\lib', 'C:\\\\', 'C:\\\\Users\\\\Admin\\\\anaconda3\\\\libs']\n",
      "        NOT AVAILABLE\n",
      "  \n",
      "      atlas_blas_threads_info:\n",
      "      Setting PTATLAS=ATLAS\n",
      "      No module named 'numpy.distutils._msvccompiler' in numpy.distutils; trying from distutils\n",
      "      customize MSVCCompiler\n",
      "        libraries ptf77blas,ptcblas,atlas not found in ['C:\\\\Users\\\\Admin\\\\anaconda3\\\\lib', 'C:\\\\', 'C:\\\\Users\\\\Admin\\\\anaconda3\\\\libs']\n",
      "        NOT AVAILABLE\n",
      "  \n",
      "      atlas_blas_info:\n",
      "      No module named 'numpy.distutils._msvccompiler' in numpy.distutils; trying from distutils\n",
      "      customize MSVCCompiler\n",
      "        libraries f77blas,cblas,atlas not found in ['C:\\\\Users\\\\Admin\\\\anaconda3\\\\lib', 'C:\\\\', 'C:\\\\Users\\\\Admin\\\\anaconda3\\\\libs']\n",
      "        NOT AVAILABLE\n",
      "  \n",
      "      accelerate_info:\n",
      "        NOT AVAILABLE\n",
      "  \n",
      "      C:\\Users\\Admin\\AppData\\Local\\Temp\\pip-install-nl7_ue86\\numpy_dab0ade5587a44f7929e6671b12f1a05\\numpy\\distutils\\system_info.py:690: UserWarning:\n",
      "          Optimized (vendor) Blas libraries are not found.\n",
      "          Falls back to netlib Blas library which has worse performance.\n",
      "          A better performance should be easily gained by switching\n",
      "          Blas library.\n",
      "        self.calc_info()\n",
      "      blas_info:\n",
      "      No module named 'numpy.distutils._msvccompiler' in numpy.distutils; trying from distutils\n",
      "      customize MSVCCompiler\n",
      "        libraries blas not found in ['C:\\\\Users\\\\Admin\\\\anaconda3\\\\lib', 'C:\\\\', 'C:\\\\Users\\\\Admin\\\\anaconda3\\\\libs']\n",
      "        NOT AVAILABLE\n",
      "  \n",
      "      C:\\Users\\Admin\\AppData\\Local\\Temp\\pip-install-nl7_ue86\\numpy_dab0ade5587a44f7929e6671b12f1a05\\numpy\\distutils\\system_info.py:690: UserWarning:\n",
      "          Blas (http://www.netlib.org/blas/) libraries not found.\n",
      "          Directories to search for the libraries can be specified in the\n",
      "          numpy/distutils/site.cfg file (section [blas]) or by setting\n",
      "          the BLAS environment variable.\n",
      "        self.calc_info()\n",
      "      blas_src_info:\n",
      "        NOT AVAILABLE\n",
      "  \n",
      "      C:\\Users\\Admin\\AppData\\Local\\Temp\\pip-install-nl7_ue86\\numpy_dab0ade5587a44f7929e6671b12f1a05\\numpy\\distutils\\system_info.py:690: UserWarning:\n",
      "          Blas (http://www.netlib.org/blas/) sources not found.\n",
      "          Directories to search for the sources can be specified in the\n",
      "          numpy/distutils/site.cfg file (section [blas_src]) or by setting\n",
      "          the BLAS_SRC environment variable.\n",
      "        self.calc_info()\n",
      "        NOT AVAILABLE\n",
      "  \n",
      "      'svnversion' is not recognized as an internal or external command,\n",
      "      operable program or batch file.\n",
      "      non-existing path in 'numpy\\\\distutils': 'site.cfg'\n",
      "      lapack_opt_info:\n",
      "      lapack_mkl_info:\n",
      "      No module named 'numpy.distutils._msvccompiler' in numpy.distutils; trying from distutils\n",
      "      customize MSVCCompiler\n",
      "        libraries mkl_rt not found in ['C:\\\\Users\\\\Admin\\\\anaconda3\\\\lib', 'C:\\\\', 'C:\\\\Users\\\\Admin\\\\anaconda3\\\\libs']\n",
      "        NOT AVAILABLE\n",
      "  \n",
      "      openblas_lapack_info:\n",
      "      No module named 'numpy.distutils._msvccompiler' in numpy.distutils; trying from distutils\n",
      "      customize MSVCCompiler\n",
      "      No module named 'numpy.distutils._msvccompiler' in numpy.distutils; trying from distutils\n",
      "      customize MSVCCompiler\n",
      "        libraries openblas not found in ['C:\\\\Users\\\\Admin\\\\anaconda3\\\\lib', 'C:\\\\', 'C:\\\\Users\\\\Admin\\\\anaconda3\\\\libs']\n",
      "        NOT AVAILABLE\n",
      "  \n",
      "      openblas_clapack_info:\n",
      "      No module named 'numpy.distutils._msvccompiler' in numpy.distutils; trying from distutils\n",
      "      customize MSVCCompiler\n",
      "      No module named 'numpy.distutils._msvccompiler' in numpy.distutils; trying from distutils\n",
      "      customize MSVCCompiler\n",
      "        libraries openblas,lapack not found in ['C:\\\\Users\\\\Admin\\\\anaconda3\\\\lib', 'C:\\\\', 'C:\\\\Users\\\\Admin\\\\anaconda3\\\\libs']\n",
      "        NOT AVAILABLE\n",
      "  \n",
      "      flame_info:\n",
      "      No module named 'numpy.distutils._msvccompiler' in numpy.distutils; trying from distutils\n",
      "      customize MSVCCompiler\n",
      "        libraries flame not found in ['C:\\\\Users\\\\Admin\\\\anaconda3\\\\lib', 'C:\\\\', 'C:\\\\Users\\\\Admin\\\\anaconda3\\\\libs']\n",
      "        NOT AVAILABLE\n",
      "  \n",
      "      atlas_3_10_threads_info:\n",
      "      Setting PTATLAS=ATLAS\n",
      "      No module named 'numpy.distutils._msvccompiler' in numpy.distutils; trying from distutils\n",
      "      customize MSVCCompiler\n",
      "        libraries lapack_atlas not found in C:\\Users\\Admin\\anaconda3\\lib\n",
      "      No module named 'numpy.distutils._msvccompiler' in numpy.distutils; trying from distutils\n",
      "      customize MSVCCompiler\n",
      "        libraries tatlas,tatlas not found in C:\\Users\\Admin\\anaconda3\\lib\n",
      "      No module named 'numpy.distutils._msvccompiler' in numpy.distutils; trying from distutils\n",
      "      customize MSVCCompiler\n",
      "        libraries lapack_atlas not found in C:\\\n",
      "      No module named 'numpy.distutils._msvccompiler' in numpy.distutils; trying from distutils\n",
      "      customize MSVCCompiler\n",
      "        libraries tatlas,tatlas not found in C:\\\n",
      "      No module named 'numpy.distutils._msvccompiler' in numpy.distutils; trying from distutils\n",
      "      customize MSVCCompiler\n",
      "        libraries lapack_atlas not found in C:\\Users\\Admin\\anaconda3\\libs\n",
      "      No module named 'numpy.distutils._msvccompiler' in numpy.distutils; trying from distutils\n",
      "      customize MSVCCompiler\n",
      "        libraries tatlas,tatlas not found in C:\\Users\\Admin\\anaconda3\\libs\n",
      "      <class 'numpy.distutils.system_info.atlas_3_10_threads_info'>\n",
      "        NOT AVAILABLE\n",
      "  \n",
      "      atlas_3_10_info:\n",
      "      No module named 'numpy.distutils._msvccompiler' in numpy.distutils; trying from distutils\n",
      "      customize MSVCCompiler\n",
      "        libraries lapack_atlas not found in C:\\Users\\Admin\\anaconda3\\lib\n",
      "      No module named 'numpy.distutils._msvccompiler' in numpy.distutils; trying from distutils\n",
      "      customize MSVCCompiler\n",
      "        libraries satlas,satlas not found in C:\\Users\\Admin\\anaconda3\\lib\n",
      "      No module named 'numpy.distutils._msvccompiler' in numpy.distutils; trying from distutils\n",
      "      customize MSVCCompiler\n",
      "        libraries lapack_atlas not found in C:\\\n",
      "      No module named 'numpy.distutils._msvccompiler' in numpy.distutils; trying from distutils\n",
      "      customize MSVCCompiler\n",
      "        libraries satlas,satlas not found in C:\\\n",
      "      No module named 'numpy.distutils._msvccompiler' in numpy.distutils; trying from distutils\n",
      "      customize MSVCCompiler\n",
      "        libraries lapack_atlas not found in C:\\Users\\Admin\\anaconda3\\libs\n",
      "      No module named 'numpy.distutils._msvccompiler' in numpy.distutils; trying from distutils\n",
      "      customize MSVCCompiler\n",
      "        libraries satlas,satlas not found in C:\\Users\\Admin\\anaconda3\\libs\n",
      "      <class 'numpy.distutils.system_info.atlas_3_10_info'>\n",
      "        NOT AVAILABLE\n",
      "  \n",
      "      atlas_threads_info:\n",
      "      Setting PTATLAS=ATLAS\n",
      "      No module named 'numpy.distutils._msvccompiler' in numpy.distutils; trying from distutils\n",
      "      customize MSVCCompiler\n",
      "        libraries lapack_atlas not found in C:\\Users\\Admin\\anaconda3\\lib\n",
      "      No module named 'numpy.distutils._msvccompiler' in numpy.distutils; trying from distutils\n",
      "      customize MSVCCompiler\n",
      "        libraries ptf77blas,ptcblas,atlas not found in C:\\Users\\Admin\\anaconda3\\lib\n",
      "      No module named 'numpy.distutils._msvccompiler' in numpy.distutils; trying from distutils\n",
      "      customize MSVCCompiler\n",
      "        libraries lapack_atlas not found in C:\\\n",
      "      No module named 'numpy.distutils._msvccompiler' in numpy.distutils; trying from distutils\n",
      "      customize MSVCCompiler\n",
      "        libraries ptf77blas,ptcblas,atlas not found in C:\\\n",
      "      No module named 'numpy.distutils._msvccompiler' in numpy.distutils; trying from distutils\n",
      "      customize MSVCCompiler\n",
      "        libraries lapack_atlas not found in C:\\Users\\Admin\\anaconda3\\libs\n",
      "      No module named 'numpy.distutils._msvccompiler' in numpy.distutils; trying from distutils\n",
      "      customize MSVCCompiler\n",
      "        libraries ptf77blas,ptcblas,atlas not found in C:\\Users\\Admin\\anaconda3\\libs\n",
      "      <class 'numpy.distutils.system_info.atlas_threads_info'>\n",
      "        NOT AVAILABLE\n",
      "  \n",
      "      atlas_info:\n",
      "      No module named 'numpy.distutils._msvccompiler' in numpy.distutils; trying from distutils\n",
      "      customize MSVCCompiler\n",
      "        libraries lapack_atlas not found in C:\\Users\\Admin\\anaconda3\\lib\n",
      "      No module named 'numpy.distutils._msvccompiler' in numpy.distutils; trying from distutils\n",
      "      customize MSVCCompiler\n",
      "        libraries f77blas,cblas,atlas not found in C:\\Users\\Admin\\anaconda3\\lib\n",
      "      No module named 'numpy.distutils._msvccompiler' in numpy.distutils; trying from distutils\n",
      "      customize MSVCCompiler\n",
      "        libraries lapack_atlas not found in C:\\\n",
      "      No module named 'numpy.distutils._msvccompiler' in numpy.distutils; trying from distutils\n",
      "      customize MSVCCompiler\n",
      "        libraries f77blas,cblas,atlas not found in C:\\\n",
      "      No module named 'numpy.distutils._msvccompiler' in numpy.distutils; trying from distutils\n",
      "      customize MSVCCompiler\n",
      "        libraries lapack_atlas not found in C:\\Users\\Admin\\anaconda3\\libs\n",
      "      No module named 'numpy.distutils._msvccompiler' in numpy.distutils; trying from distutils\n",
      "      customize MSVCCompiler\n",
      "        libraries f77blas,cblas,atlas not found in C:\\Users\\Admin\\anaconda3\\libs\n",
      "      <class 'numpy.distutils.system_info.atlas_info'>\n",
      "        NOT AVAILABLE\n",
      "  \n",
      "      lapack_info:\n",
      "      No module named 'numpy.distutils._msvccompiler' in numpy.distutils; trying from distutils\n",
      "      customize MSVCCompiler\n",
      "        libraries lapack not found in ['C:\\\\Users\\\\Admin\\\\anaconda3\\\\lib', 'C:\\\\', 'C:\\\\Users\\\\Admin\\\\anaconda3\\\\libs']\n",
      "        NOT AVAILABLE\n",
      "  \n",
      "      C:\\Users\\Admin\\AppData\\Local\\Temp\\pip-install-nl7_ue86\\numpy_dab0ade5587a44f7929e6671b12f1a05\\numpy\\distutils\\system_info.py:1712: UserWarning:\n",
      "          Lapack (http://www.netlib.org/lapack/) libraries not found.\n",
      "          Directories to search for the libraries can be specified in the\n",
      "          numpy/distutils/site.cfg file (section [lapack]) or by setting\n",
      "          the LAPACK environment variable.\n",
      "        if getattr(self, '_calc_info_{}'.format(lapack))():\n",
      "      lapack_src_info:\n",
      "        NOT AVAILABLE\n",
      "  \n",
      "      C:\\Users\\Admin\\AppData\\Local\\Temp\\pip-install-nl7_ue86\\numpy_dab0ade5587a44f7929e6671b12f1a05\\numpy\\distutils\\system_info.py:1712: UserWarning:\n",
      "          Lapack (http://www.netlib.org/lapack/) sources not found.\n",
      "          Directories to search for the sources can be specified in the\n",
      "          numpy/distutils/site.cfg file (section [lapack_src]) or by setting\n",
      "          the LAPACK_SRC environment variable.\n",
      "        if getattr(self, '_calc_info_{}'.format(lapack))():\n",
      "        NOT AVAILABLE\n",
      "  \n",
      "      C:\\Users\\Admin\\anaconda3\\lib\\site-packages\\setuptools\\_distutils\\dist.py:275: UserWarning: Unknown distribution option: 'define_macros'\n",
      "        warnings.warn(msg)\n",
      "      running install\n",
      "      C:\\Users\\Admin\\anaconda3\\lib\\site-packages\\setuptools\\command\\install.py:34: SetuptoolsDeprecationWarning: setup.py install is deprecated. Use build and pip and other standards-based tools.\n",
      "        warnings.warn(\n",
      "      running build\n",
      "      running config_cc\n",
      "      unifing config_cc, config, build_clib, build_ext, build commands --compiler options\n",
      "      running config_fc\n",
      "      unifing config_fc, config, build_clib, build_ext, build commands --fcompiler options\n",
      "      running build_src\n",
      "      build_src\n",
      "      building py_modules sources\n",
      "      building library \"npymath\" sources\n",
      "      No module named 'numpy.distutils._msvccompiler' in numpy.distutils; trying from distutils\n",
      "      error: Microsoft Visual C++ 14.0 or greater is required. Get it with \"Microsoft C++ Build Tools\": https://visualstudio.microsoft.com/visual-cpp-build-tools/\n",
      "      ----------------------------------------\n",
      "  ERROR: Command errored out with exit status 1: 'C:\\Users\\Admin\\anaconda3\\python.exe' -u -c 'import io, os, sys, setuptools, tokenize; sys.argv[0] = '\"'\"'C:\\\\Users\\\\Admin\\\\AppData\\\\Local\\\\Temp\\\\pip-install-nl7_ue86\\\\numpy_dab0ade5587a44f7929e6671b12f1a05\\\\setup.py'\"'\"'; __file__='\"'\"'C:\\\\Users\\\\Admin\\\\AppData\\\\Local\\\\Temp\\\\pip-install-nl7_ue86\\\\numpy_dab0ade5587a44f7929e6671b12f1a05\\\\setup.py'\"'\"';f = getattr(tokenize, '\"'\"'open'\"'\"', open)(__file__) if os.path.exists(__file__) else io.StringIO('\"'\"'from setuptools import setup; setup()'\"'\"');code = f.read().replace('\"'\"'\\r\\n'\"'\"', '\"'\"'\\n'\"'\"');f.close();exec(compile(code, __file__, '\"'\"'exec'\"'\"'))' install --record 'C:\\Users\\Admin\\AppData\\Local\\Temp\\pip-record-ht992atz\\install-record.txt' --single-version-externally-managed --prefix 'C:\\Users\\Admin\\AppData\\Local\\Temp\\pip-build-env-fkz24ujr\\overlay' --compile --install-headers 'C:\\Users\\Admin\\AppData\\Local\\Temp\\pip-build-env-fkz24ujr\\overlay\\Include\\numpy' Check the logs for full command output.\n",
      "  ----------------------------------------\n",
      "WARNING: Discarding https://files.pythonhosted.org/packages/23/b0/ff0f4ffa3da1ddb242a295d5d19dd1775f567ad73a6ea7474eaa55e04836/scikit-learn-0.23.1.tar.gz#sha256=e3fec1c8831f8f93ad85581ca29ca1bb88e2da377fb097cf8322aa89c21bc9b8 (from https://pypi.org/simple/scikit-learn/) (requires-python:>=3.6). Command errored out with exit status 1: 'C:\\Users\\Admin\\anaconda3\\python.exe' 'C:\\Users\\Admin\\AppData\\Local\\Temp\\pip-standalone-pip-46vrj62z\\__env_pip__.zip\\pip' install --ignore-installed --no-user --prefix 'C:\\Users\\Admin\\AppData\\Local\\Temp\\pip-build-env-fkz24ujr\\overlay' --no-warn-script-location --no-binary :none: --only-binary :none: -i https://pypi.org/simple -- setuptools wheel 'Cython>=0.28.5' 'numpy==1.13.3; python_version=='\"'\"'3.6'\"'\"' and platform_system!='\"'\"'AIX'\"'\"' and platform_python_implementation == '\"'\"'CPython'\"'\"'' 'numpy==1.14.0; python_version=='\"'\"'3.6'\"'\"' and platform_system!='\"'\"'AIX'\"'\"' and platform_python_implementation != '\"'\"'CPython'\"'\"'' 'numpy==1.14.5; python_version=='\"'\"'3.7'\"'\"' and platform_system!='\"'\"'AIX'\"'\"'' 'numpy==1.17.3; python_version>='\"'\"'3.8'\"'\"' and platform_system!='\"'\"'AIX'\"'\"'' 'numpy==1.16.0; python_version=='\"'\"'3.6'\"'\"' and platform_system=='\"'\"'AIX'\"'\"'' 'numpy==1.16.0; python_version=='\"'\"'3.7'\"'\"' and platform_system=='\"'\"'AIX'\"'\"'' 'numpy==1.17.3; python_version>='\"'\"'3.8'\"'\"' and platform_system=='\"'\"'AIX'\"'\"'' 'scipy>=0.19.1' Check the logs for full command output.\n",
      "ERROR: Could not find a version that satisfies the requirement scikit-learn==0.23.1 (from versions: 0.9, 0.10, 0.11, 0.12, 0.12.1, 0.13, 0.13.1, 0.14, 0.14.1, 0.15.0, 0.15.1, 0.15.2, 0.16.0, 0.16.1, 0.17, 0.17.1, 0.18, 0.18.1, 0.18.2, 0.19.0, 0.19.1, 0.19.2, 0.20.0, 0.20.1, 0.20.2, 0.20.3, 0.20.4, 0.21.1, 0.21.2, 0.21.3, 0.22, 0.22.1, 0.22.2.post1, 0.23.0, 0.23.1, 0.23.2, 0.24.0, 0.24.1, 0.24.2, 1.0, 1.0.1, 1.0.2, 1.1.0, 1.1.1, 1.1.2, 1.1.3, 1.2.0rc1, 1.2.0)\n",
      "ERROR: No matching distribution found for scikit-learn==0.23.1\n"
     ]
    }
   ],
   "source": [
    "# Install scikit\n",
    "!pip install -U \"scikit-learn==0.23.1\""
   ]
  },
  {
   "cell_type": "code",
   "execution_count": 29,
   "id": "fa0c229b",
   "metadata": {},
   "outputs": [],
   "source": [
    "import numpy as np\n",
    "from sklearn.model_selection import train_test_split"
   ]
  },
  {
   "cell_type": "code",
   "execution_count": 30,
   "id": "b5673ba1",
   "metadata": {},
   "outputs": [],
   "source": [
    "# Create X, y features\n",
    "X = dmy_auto_df.drop('mpg', axis=1)\n",
    "y = dmy_auto_df['mpg']"
   ]
  },
  {
   "cell_type": "code",
   "execution_count": 31,
   "id": "9ec5c112",
   "metadata": {},
   "outputs": [
    {
     "data": {
      "text/plain": [
       "(     cylinders  displacement  horsepower  weight  acceleration  model year  \\\n",
       " 0            8         307.0       130.0    3504          12.0          70   \n",
       " 1            8         350.0       165.0    3693          11.5          70   \n",
       " 2            8         318.0       150.0    3436          11.0          70   \n",
       " 3            8         304.0       150.0    3433          12.0          70   \n",
       " 4            8         302.0       140.0    3449          10.5          70   \n",
       " ..         ...           ...         ...     ...           ...         ...   \n",
       " 393          4         140.0        86.0    2790          15.6          82   \n",
       " 394          4          97.0        52.0    2130          24.6          82   \n",
       " 395          4         135.0        84.0    2295          11.6          82   \n",
       " 396          4         120.0        79.0    2625          18.6          82   \n",
       " 397          4         119.0        82.0    2720          19.4          82   \n",
       " \n",
       "      dummy_1  dummy_2  dummy_3  \n",
       " 0          1        0        0  \n",
       " 1          1        0        0  \n",
       " 2          1        0        0  \n",
       " 3          1        0        0  \n",
       " 4          1        0        0  \n",
       " ..       ...      ...      ...  \n",
       " 393        1        0        0  \n",
       " 394        0        1        0  \n",
       " 395        1        0        0  \n",
       " 396        1        0        0  \n",
       " 397        1        0        0  \n",
       " \n",
       " [398 rows x 9 columns],\n",
       " 0      18.0\n",
       " 1      15.0\n",
       " 2      18.0\n",
       " 3      16.0\n",
       " 4      17.0\n",
       "        ... \n",
       " 393    27.0\n",
       " 394    44.0\n",
       " 395    32.0\n",
       " 396    28.0\n",
       " 397    31.0\n",
       " Name: mpg, Length: 398, dtype: float64)"
      ]
     },
     "execution_count": 31,
     "metadata": {},
     "output_type": "execute_result"
    }
   ],
   "source": [
    "X, y"
   ]
  },
  {
   "cell_type": "code",
   "execution_count": 32,
   "id": "256094ba",
   "metadata": {},
   "outputs": [],
   "source": [
    "# Randomly split data 80% train, 20% test\n",
    "X_train, X_test, y_train, y_test = train_test_split(\n",
    "\tX, y, test_size=0.2, random_state=101)"
   ]
  },
  {
   "cell_type": "code",
   "execution_count": 33,
   "id": "2cb264bc",
   "metadata": {},
   "outputs": [],
   "source": [
    "# Create model\n",
    "from sklearn.linear_model import LinearRegression\n",
    "olr_model = LinearRegression()"
   ]
  },
  {
   "cell_type": "code",
   "execution_count": 34,
   "id": "9b8f34e5",
   "metadata": {},
   "outputs": [
    {
     "data": {
      "text/plain": [
       "LinearRegression()"
      ]
     },
     "execution_count": 34,
     "metadata": {},
     "output_type": "execute_result"
    }
   ],
   "source": [
    "# Fit model on train data\n",
    "olr_model.fit(X_train,y_train)"
   ]
  },
  {
   "cell_type": "code",
   "execution_count": 63,
   "id": "82e4a5dc",
   "metadata": {},
   "outputs": [],
   "source": [
    "predictions = olr_model.predict(X_train)"
   ]
  },
  {
   "cell_type": "code",
   "execution_count": 64,
   "id": "101141ae",
   "metadata": {},
   "outputs": [],
   "source": [
    "from sklearn.metrics import mean_squared_error, mean_absolute_error, r2_score"
   ]
  },
  {
   "cell_type": "code",
   "execution_count": 65,
   "id": "7016ef74",
   "metadata": {},
   "outputs": [
    {
     "data": {
      "text/plain": [
       "0.7843733698740114"
      ]
     },
     "execution_count": 65,
     "metadata": {},
     "output_type": "execute_result"
    }
   ],
   "source": [
    "r2_score(y_train, predictions)"
   ]
  },
  {
   "cell_type": "code",
   "execution_count": 69,
   "id": "e52f4df9",
   "metadata": {},
   "outputs": [],
   "source": [
    "y_pred_test = olr_model.predict(X_test)"
   ]
  },
  {
   "cell_type": "code",
   "execution_count": 70,
   "id": "4de70843",
   "metadata": {},
   "outputs": [
    {
     "data": {
      "text/plain": [
       "0.8388486069506715"
      ]
     },
     "execution_count": 70,
     "metadata": {},
     "output_type": "execute_result"
    }
   ],
   "source": [
    "r2_score(y_test, y_pred_test)"
   ]
  },
  {
   "cell_type": "markdown",
   "id": "a18c62d9",
   "metadata": {},
   "source": [
    "#  The R2 on the test data is 84% and on the train data is 78%."
   ]
  },
  {
   "cell_type": "code",
   "execution_count": 71,
   "id": "70842117",
   "metadata": {},
   "outputs": [
    {
     "data": {
      "text/plain": [
       "3.643395162489511"
      ]
     },
     "execution_count": 71,
     "metadata": {},
     "output_type": "execute_result"
    }
   ],
   "source": [
    "mean_squared_error(y_train, predictions, squared=False)"
   ]
  },
  {
   "cell_type": "code",
   "execution_count": 72,
   "id": "55ba1d75",
   "metadata": {},
   "outputs": [
    {
     "data": {
      "text/plain": [
       "3.053922928570986"
      ]
     },
     "execution_count": 72,
     "metadata": {},
     "output_type": "execute_result"
    }
   ],
   "source": [
    "mean_squared_error(y_test, y_pred_test, squared=False)"
   ]
  },
  {
   "cell_type": "markdown",
   "id": "38fdd811",
   "metadata": {},
   "source": [
    "#  The RMSE is 3.64 on train and 3.05 on test data."
   ]
  },
  {
   "cell_type": "code",
   "execution_count": 73,
   "id": "7c63d19c",
   "metadata": {},
   "outputs": [
    {
     "data": {
      "text/plain": [
       "('mean_absolute_error : ', 2.695924505844267)"
      ]
     },
     "execution_count": 73,
     "metadata": {},
     "output_type": "execute_result"
    }
   ],
   "source": [
    "'mean_absolute_error : ', mean_absolute_error(y_train, predictions),"
   ]
  },
  {
   "cell_type": "code",
   "execution_count": 74,
   "id": "f70fb4bb",
   "metadata": {},
   "outputs": [
    {
     "data": {
      "text/plain": [
       "('mean_absolute_error : ', 2.3049037908873076)"
      ]
     },
     "execution_count": 74,
     "metadata": {},
     "output_type": "execute_result"
    }
   ],
   "source": [
    "'mean_absolute_error : ', mean_absolute_error(y_test, y_pred_test),"
   ]
  },
  {
   "cell_type": "markdown",
   "id": "54269477",
   "metadata": {},
   "source": [
    "#  The MAE is 2.70 on train and 2.30 on test data."
   ]
  },
  {
   "cell_type": "code",
   "execution_count": 75,
   "id": "260adbf0",
   "metadata": {},
   "outputs": [],
   "source": [
    "# 'root_mean_squared_error :' , mean_squared_error(y_test, predictions, squared=False)\n"
   ]
  },
  {
   "cell_type": "code",
   "execution_count": 76,
   "id": "ef5aa745",
   "metadata": {},
   "outputs": [],
   "source": [
    "# olr_model.fit(X_test,y_test)"
   ]
  },
  {
   "cell_type": "code",
   "execution_count": 77,
   "id": "a3ac5a3c",
   "metadata": {},
   "outputs": [],
   "source": [
    "# predictions_train = olr_model.predict(X_train)"
   ]
  },
  {
   "cell_type": "code",
   "execution_count": null,
   "id": "62e9fdf8",
   "metadata": {},
   "outputs": [],
   "source": []
  },
  {
   "cell_type": "code",
   "execution_count": 78,
   "id": "3c082675",
   "metadata": {},
   "outputs": [],
   "source": [
    "# 'root_mean_squared_error :' , mean_squared_error(y_train, predictions_train, squared=False),"
   ]
  },
  {
   "cell_type": "markdown",
   "id": "2c4f41d0",
   "metadata": {},
   "source": []
  },
  {
   "cell_type": "code",
   "execution_count": null,
   "id": "cd6b213c",
   "metadata": {},
   "outputs": [],
   "source": []
  },
  {
   "cell_type": "code",
   "execution_count": 79,
   "id": "a3c0a8b4",
   "metadata": {},
   "outputs": [],
   "source": [
    "# 'mean_absolute_error : ', mean_absolute_error(y_test, predictions),"
   ]
  },
  {
   "cell_type": "code",
   "execution_count": 80,
   "id": "79aff401",
   "metadata": {},
   "outputs": [],
   "source": [
    "# 'mean_absolute_error : ', mean_absolute_error(y_train, predictions_train),"
   ]
  },
  {
   "cell_type": "markdown",
   "id": "06350f0e",
   "metadata": {},
   "source": []
  },
  {
   "cell_type": "code",
   "execution_count": 81,
   "id": "9f27e922",
   "metadata": {},
   "outputs": [],
   "source": [
    "# 'R2 : ', r2_score(y_test, predictions)"
   ]
  },
  {
   "cell_type": "code",
   "execution_count": 82,
   "id": "9e25ff83",
   "metadata": {},
   "outputs": [],
   "source": [
    "# 'R2 : ', r2_score(y_train, predictions_train)"
   ]
  },
  {
   "cell_type": "markdown",
   "id": "f20bfbd3",
   "metadata": {},
   "source": []
  },
  {
   "cell_type": "markdown",
   "id": "37978973",
   "metadata": {},
   "source": [
    "#  Perform Ridge Regression on same data"
   ]
  },
  {
   "cell_type": "code",
   "execution_count": 83,
   "id": "9b969573",
   "metadata": {},
   "outputs": [],
   "source": [
    "from sklearn.linear_model import Ridge"
   ]
  },
  {
   "cell_type": "code",
   "execution_count": 84,
   "id": "d13307e0",
   "metadata": {},
   "outputs": [
    {
     "data": {
      "text/plain": [
       "Ridge(alpha=0.01)"
      ]
     },
     "execution_count": 84,
     "metadata": {},
     "output_type": "execute_result"
    }
   ],
   "source": [
    "train_ridge = Ridge(alpha=0.01)\n",
    "train_ridge.fit(X_train, y_train) "
   ]
  },
  {
   "cell_type": "code",
   "execution_count": 85,
   "id": "9b4f7101",
   "metadata": {},
   "outputs": [],
   "source": [
    "pred_train_ridge = train_ridge.predict(X_train)"
   ]
  },
  {
   "cell_type": "code",
   "execution_count": 86,
   "id": "48317f32",
   "metadata": {},
   "outputs": [
    {
     "data": {
      "text/plain": [
       "('root_mean_squared_error :', 3.250876019625667)"
      ]
     },
     "execution_count": 86,
     "metadata": {},
     "output_type": "execute_result"
    }
   ],
   "source": [
    "'root_mean_squared_error :' , mean_squared_error(y_train, pred_train_ridge, squared=False)"
   ]
  },
  {
   "cell_type": "code",
   "execution_count": 87,
   "id": "773cc33a",
   "metadata": {},
   "outputs": [
    {
     "data": {
      "text/plain": [
       "Ridge(alpha=0.01)"
      ]
     },
     "execution_count": 87,
     "metadata": {},
     "output_type": "execute_result"
    }
   ],
   "source": [
    "test_ridge = Ridge(alpha=0.01)\n",
    "test_ridge.fit(X_test, y_test)"
   ]
  },
  {
   "cell_type": "code",
   "execution_count": 88,
   "id": "2aba0b20",
   "metadata": {},
   "outputs": [],
   "source": [
    "pred_test_ridge = test_ridge.predict(X_test)"
   ]
  },
  {
   "cell_type": "code",
   "execution_count": 89,
   "id": "991a5313",
   "metadata": {},
   "outputs": [
    {
     "data": {
      "text/plain": [
       "('root_mean_squared_error :', 3.053923105751299)"
      ]
     },
     "execution_count": 89,
     "metadata": {},
     "output_type": "execute_result"
    }
   ],
   "source": [
    "'root_mean_squared_error :' , mean_squared_error(y_test, pred_test_ridge, squared=False)"
   ]
  },
  {
   "cell_type": "markdown",
   "id": "923f3f91",
   "metadata": {},
   "source": [
    "#  The RMSE is slightly lower in the test data(0.20)."
   ]
  },
  {
   "cell_type": "code",
   "execution_count": 90,
   "id": "f3015b25",
   "metadata": {},
   "outputs": [
    {
     "data": {
      "text/plain": [
       "('mean_absolute_error : ', 2.5135821068442072)"
      ]
     },
     "execution_count": 90,
     "metadata": {},
     "output_type": "execute_result"
    }
   ],
   "source": [
    "'mean_absolute_error : ', mean_absolute_error(y_train, pred_train_ridge),"
   ]
  },
  {
   "cell_type": "code",
   "execution_count": 91,
   "id": "df07a728",
   "metadata": {},
   "outputs": [
    {
     "data": {
      "text/plain": [
       "('mean_absolute_error : ', 2.3046595917233375)"
      ]
     },
     "execution_count": 91,
     "metadata": {},
     "output_type": "execute_result"
    }
   ],
   "source": [
    "'mean_absolute_error : ', mean_absolute_error(y_test, pred_test_ridge),"
   ]
  },
  {
   "cell_type": "markdown",
   "id": "9e411a39",
   "metadata": {},
   "source": [
    "#  The MAE is 2.51 on train, and 2.30 on test data."
   ]
  },
  {
   "cell_type": "code",
   "execution_count": 92,
   "id": "c6447a5d",
   "metadata": {},
   "outputs": [
    {
     "data": {
      "text/plain": [
       "('R2 : ', 0.8283314832590808)"
      ]
     },
     "execution_count": 92,
     "metadata": {},
     "output_type": "execute_result"
    }
   ],
   "source": [
    "'R2 : ', r2_score(y_train, pred_train_ridge)"
   ]
  },
  {
   "cell_type": "code",
   "execution_count": 93,
   "id": "cec3f3c0",
   "metadata": {},
   "outputs": [
    {
     "data": {
      "text/plain": [
       "('R2 : ', 0.8388485882515389)"
      ]
     },
     "execution_count": 93,
     "metadata": {},
     "output_type": "execute_result"
    }
   ],
   "source": [
    "'R2 : ', r2_score(y_test, pred_test_ridge)"
   ]
  },
  {
   "cell_type": "markdown",
   "id": "7a4b430c",
   "metadata": {},
   "source": [
    "#  The R2 is 83% on train, and 84% on test data."
   ]
  },
  {
   "cell_type": "code",
   "execution_count": null,
   "id": "f18a2da2",
   "metadata": {},
   "outputs": [],
   "source": []
  },
  {
   "cell_type": "code",
   "execution_count": null,
   "id": "0892fb04",
   "metadata": {},
   "outputs": [],
   "source": []
  }
 ],
 "metadata": {
  "kernelspec": {
   "display_name": "Python 3 (ipykernel)",
   "language": "python",
   "name": "python3"
  },
  "language_info": {
   "codemirror_mode": {
    "name": "ipython",
    "version": 3
   },
   "file_extension": ".py",
   "mimetype": "text/x-python",
   "name": "python",
   "nbconvert_exporter": "python",
   "pygments_lexer": "ipython3",
   "version": "3.9.12"
  }
 },
 "nbformat": 4,
 "nbformat_minor": 5
}
